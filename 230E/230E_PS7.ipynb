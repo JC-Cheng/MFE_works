{
 "cells": [
  {
   "cell_type": "code",
   "execution_count": 1,
   "metadata": {
    "collapsed": true
   },
   "outputs": [],
   "source": [
    "import pandas as pd\n",
    "import numpy as np\n",
    "import matplotlib.pyplot as plt\n",
    "import statsmodels.api as sm\n",
    "import datetime\n",
    "import scipy.optimize as opt\n",
    "\n",
    "from pandas_datareader import data, wb\n",
    "from __future__ import division\n",
    "\n",
    "import arch\n",
    "\n",
    "plt.style.use('ggplot')\n",
    "%matplotlib inline"
   ]
  },
  {
   "cell_type": "markdown",
   "metadata": {},
   "source": [
    "Download daily prices of the S&P500 index, GE and IBM from finance.yahoo.com starting in 1/1/1970."
   ]
  },
  {
   "cell_type": "code",
   "execution_count": 2,
   "metadata": {
    "collapsed": false
   },
   "outputs": [
    {
     "data": {
      "text/html": [
       "<div>\n",
       "<table border=\"1\" class=\"dataframe\">\n",
       "  <thead>\n",
       "    <tr style=\"text-align: right;\">\n",
       "      <th></th>\n",
       "      <th>Date</th>\n",
       "      <th>GE</th>\n",
       "      <th>IBM</th>\n",
       "      <th>^GSPC</th>\n",
       "    </tr>\n",
       "  </thead>\n",
       "  <tbody>\n",
       "    <tr>\n",
       "      <th>0</th>\n",
       "      <td>1970-01-02</td>\n",
       "      <td>0.176514</td>\n",
       "      <td>5.444441</td>\n",
       "      <td>93.000000</td>\n",
       "    </tr>\n",
       "    <tr>\n",
       "      <th>1</th>\n",
       "      <td>1970-01-05</td>\n",
       "      <td>0.175650</td>\n",
       "      <td>5.496684</td>\n",
       "      <td>93.459999</td>\n",
       "    </tr>\n",
       "    <tr>\n",
       "      <th>2</th>\n",
       "      <td>1970-01-06</td>\n",
       "      <td>0.170467</td>\n",
       "      <td>5.500415</td>\n",
       "      <td>92.820000</td>\n",
       "    </tr>\n",
       "    <tr>\n",
       "      <th>3</th>\n",
       "      <td>1970-01-07</td>\n",
       "      <td>0.171330</td>\n",
       "      <td>5.504147</td>\n",
       "      <td>92.629997</td>\n",
       "    </tr>\n",
       "    <tr>\n",
       "      <th>4</th>\n",
       "      <td>1970-01-08</td>\n",
       "      <td>0.172770</td>\n",
       "      <td>5.515342</td>\n",
       "      <td>92.680000</td>\n",
       "    </tr>\n",
       "  </tbody>\n",
       "</table>\n",
       "</div>"
      ],
      "text/plain": [
       "         Date        GE       IBM      ^GSPC\n",
       "0  1970-01-02  0.176514  5.444441  93.000000\n",
       "1  1970-01-05  0.175650  5.496684  93.459999\n",
       "2  1970-01-06  0.170467  5.500415  92.820000\n",
       "3  1970-01-07  0.171330  5.504147  92.629997\n",
       "4  1970-01-08  0.172770  5.515342  92.680000"
      ]
     },
     "execution_count": 2,
     "metadata": {},
     "output_type": "execute_result"
    }
   ],
   "source": [
    "px_df = pd.read_csv('./yahoo_data.csv')\n",
    "px_df.head()"
   ]
  },
  {
   "cell_type": "code",
   "execution_count": 3,
   "metadata": {
    "collapsed": true
   },
   "outputs": [],
   "source": [
    "class yahoo_finance:\n",
    "    \n",
    "    def __init__(self, raw_data, t_idx):\n",
    "        \n",
    "        self.px = pd.Series(raw_data.values, index=pd.DatetimeIndex(t_idx))\n",
    "        self.rets = np.log(self.px).diff().dropna() * 100\n",
    "        self.m_vol = np.sqrt(self.rets.apply(lambda r: r*r).groupby(pd.TimeGrouper(freq='MS')).sum())\n",
    "        self.m_ret = self.rets.groupby(pd.TimeGrouper(freq='MS')).sum()\n",
    "    \n",
    "    def display(self):\n",
    "        \n",
    "        return pd.concat([self.px, self.rets], keys=['Adj Close', 'Return'], axis=1)"
   ]
  },
  {
   "cell_type": "raw",
   "metadata": {
    "collapsed": false
   },
   "source": [
    "yahoo_ticker = {\n",
    "    'GE': 'GE',\n",
    "    'IBM': 'IBM',\n",
    "    'SPX': '^GSPC'\n",
    "}\n",
    "\n",
    "s_date = datetime.datetime(1970, 1, 1)\n",
    "\n",
    "for t in yahoo_ticker.keys():\n",
    "    vars()[t + '_data'] = data.DataReader(yahoo_ticker[t], 'yahoo', start=s_date)"
   ]
  },
  {
   "cell_type": "code",
   "execution_count": 4,
   "metadata": {
    "collapsed": false
   },
   "outputs": [],
   "source": [
    "GE_df = yahoo_finance(px_df['GE'], px_df['Date'])\n",
    "IBM_df = yahoo_finance(px_df['IBM'], px_df['Date'])\n",
    "SPX_df = yahoo_finance(px_df['^GSPC'], px_df['Date'])"
   ]
  },
  {
   "cell_type": "code",
   "execution_count": 5,
   "metadata": {
    "collapsed": false
   },
   "outputs": [],
   "source": [
    "def LogLikelihood(r, param, GJR=True):\n",
    "    \n",
    "    # get parameters and set legal range\n",
    "    mu = param[0]\n",
    "    \n",
    "    if GJR:\n",
    "        w, alpha, beta, phi = (p for p in param[1:])\n",
    "    else:\n",
    "        w, alpha, beta = (p for p in param[1:])\n",
    "    \n",
    "    # initialize\n",
    "    T = r.shape[0]\n",
    "    eps = r - mu\n",
    "    \n",
    "    v = np.zeros(T + 1)\n",
    "    v[0] = np.mean(r * r)\n",
    "    \n",
    "    if GJR:\n",
    "        for i in range(T):\n",
    "            v[i + 1] = w + beta * v[i] + (alpha + phi if eps[i] < 0 else alpha) * eps[i] * eps[i]\n",
    "    else:\n",
    "        for i in range(T):\n",
    "            v[i + 1] = w + beta * v[i] + alpha * eps[i] * eps[i]\n",
    "\n",
    "    e = eps / np.sqrt(v[:-1]) \n",
    "    sse = e.T.dot(e)\n",
    "    \n",
    "    return -0.5 * float(T * np.log(2 * np.pi) + np.sum(np.log(v[:-1])) + sse)"
   ]
  },
  {
   "cell_type": "code",
   "execution_count": 6,
   "metadata": {
    "collapsed": false
   },
   "outputs": [],
   "source": [
    "def output_res(p, GJR=True):\n",
    "    \n",
    "    print 'MEAN MODEL'\n",
    "    print '\\tmu = %.4f' %(p[0])\n",
    "    print 'VOL MODEL'\n",
    "    if GJR:\n",
    "        print '\\tomega = %.4f \\n \\talpha = %.4f \\n \\tbeta = %.4f \\n \\tphi = %.4f' %(p[1], p[2], p[3], p[4])\n",
    "    else:\n",
    "        print '\\tomega = %.4f \\n \\talpha = %.4f \\n \\tbeta = %.4f' %(p[1], p[2], p[3])"
   ]
  },
  {
   "cell_type": "markdown",
   "metadata": {
    "collapsed": true
   },
   "source": [
    "# GARCH(1,1) - constant mean mode"
   ]
  },
  {
   "cell_type": "code",
   "execution_count": 7,
   "metadata": {
    "collapsed": false
   },
   "outputs": [
    {
     "name": "stdout",
     "output_type": "stream",
     "text": [
      "Optimization terminated successfully.\n",
      "         Current function value: 1627.249798\n",
      "         Iterations: 231\n",
      "         Function evaluations: 424\n",
      "MEAN MODEL\n",
      "\tmu = 0.6434\n",
      "VOL MODEL\n",
      "\tomega = 0.7926 \n",
      " \talpha = 0.1230 \n",
      " \tbeta = 0.8431\n"
     ]
    }
   ],
   "source": [
    "param = np.random.uniform(0, 1, 4)\n",
    "GARCH_min_object = lambda p: - LogLikelihood(SPX_df.m_ret, p, False)\n",
    "\n",
    "G11_res = opt.minimize(GARCH_min_object, param, method='nelder-mead',options={'xtol': 1e-8, 'disp': True})\n",
    "output_res(G11_res.x, False)"
   ]
  },
  {
   "cell_type": "code",
   "execution_count": 8,
   "metadata": {
    "collapsed": false
   },
   "outputs": [
    {
     "name": "stdout",
     "output_type": "stream",
     "text": [
      "Iteration:      1,   Func. Count:      6,   Neg. LLF: 1628.52151551\n",
      "Iteration:      2,   Func. Count:     16,   Neg. LLF: 1627.31390509\n",
      "Iteration:      3,   Func. Count:     24,   Neg. LLF: 1626.97718964\n",
      "Iteration:      4,   Func. Count:     32,   Neg. LLF: 1626.90395866\n",
      "Iteration:      5,   Func. Count:     40,   Neg. LLF: 1626.90119341\n",
      "Iteration:      6,   Func. Count:     47,   Neg. LLF: 1626.83029101\n",
      "Iteration:      7,   Func. Count:     53,   Neg. LLF: 1626.8208196\n",
      "Iteration:      8,   Func. Count:     59,   Neg. LLF: 1626.82056116\n",
      "Iteration:      9,   Func. Count:     65,   Neg. LLF: 1626.82051692\n",
      "Iteration:     10,   Func. Count:     71,   Neg. LLF: 1626.82051379\n",
      "Optimization terminated successfully.    (Exit mode 0)\n",
      "            Current function value: 1626.82051379\n",
      "            Iterations: 10\n",
      "            Function evaluations: 71\n",
      "            Gradient evaluations: 10\n",
      "                     Constant Mean - GARCH Model Results                      \n",
      "==============================================================================\n",
      "Dep. Variable:                   None   R-squared:                      -0.000\n",
      "Mean Model:             Constant Mean   Adj. R-squared:                 -0.000\n",
      "Vol Model:                      GARCH   Log-Likelihood:               -1626.82\n",
      "Distribution:                  Normal   AIC:                           3261.64\n",
      "Method:            Maximum Likelihood   BIC:                           3279.02\n",
      "                                        No. Observations:                  569\n",
      "Date:                Thu, May 18 2017   Df Residuals:                      565\n",
      "Time:                        01:02:25   Df Model:                            4\n",
      "                                  Mean Model                                  \n",
      "==============================================================================\n",
      "                 coef    std err          t      P>|t|        95.0% Conf. Int.\n",
      "------------------------------------------------------------------------------\n",
      "mu             0.6463      0.177      3.644  2.687e-04       [  0.299,  0.994]\n",
      "                               Volatility Model                               \n",
      "==============================================================================\n",
      "                 coef    std err          t      P>|t|        95.0% Conf. Int.\n",
      "------------------------------------------------------------------------------\n",
      "omega          0.8025      0.480      1.671  9.474e-02       [ -0.139,  1.744]\n",
      "alpha[1]       0.1232  3.309e-02      3.722  1.975e-04     [5.832e-02,  0.188]\n",
      "beta[1]        0.8423  3.596e-02     23.420 2.698e-121       [  0.772,  0.913]\n",
      "==============================================================================\n",
      "\n",
      "Covariance estimator: robust\n"
     ]
    }
   ],
   "source": [
    "y = SPX_df.m_ret\n",
    "mod_G11 = arch.arch_model(y, vol='GARCH', p=1,q=1)\n",
    "pkg_G11_res = mod_G11.fit()\n",
    "print(pkg_G11_res.summary())"
   ]
  },
  {
   "cell_type": "markdown",
   "metadata": {},
   "source": [
    "# GJR-GARCH(1,1) - constant mean mode"
   ]
  },
  {
   "cell_type": "code",
   "execution_count": 9,
   "metadata": {
    "collapsed": false
   },
   "outputs": [
    {
     "name": "stderr",
     "output_type": "stream",
     "text": [
      "/Users/jenchieh/anaconda2/lib/python2.7/site-packages/ipykernel/__main__.py:25: RuntimeWarning: invalid value encountered in sqrt\n",
      "/Users/jenchieh/anaconda2/lib/python2.7/site-packages/ipykernel/__main__.py:28: RuntimeWarning: invalid value encountered in log\n"
     ]
    },
    {
     "name": "stdout",
     "output_type": "stream",
     "text": [
      "Optimization terminated successfully.\n",
      "         Current function value: 1624.782006\n",
      "         Iterations: 462\n",
      "         Function evaluations: 768\n",
      "MEAN MODEL\n",
      "\tmu = 0.5564\n",
      "VOL MODEL\n",
      "\tomega = 1.2407 \n",
      " \talpha = 0.0546 \n",
      " \tbeta = 0.8261 \n",
      " \tphi = 0.1099\n"
     ]
    }
   ],
   "source": [
    "param = np.random.uniform(0, 1, 5)\n",
    "GJR_min_object = lambda p: - LogLikelihood(SPX_df.m_ret, p)\n",
    "\n",
    "GJR11_res = opt.minimize(GJR_min_object, param, method='nelder-mead',options={'xtol': 1e-8, 'disp': True})\n",
    "output_res(GJR11_res.x)"
   ]
  },
  {
   "cell_type": "code",
   "execution_count": 10,
   "metadata": {
    "collapsed": false
   },
   "outputs": [
    {
     "name": "stdout",
     "output_type": "stream",
     "text": [
      "Iteration:      1,   Func. Count:      7,   Neg. LLF: 1625.03571925\n",
      "Iteration:      2,   Func. Count:     16,   Neg. LLF: 1624.84040732\n",
      "Iteration:      3,   Func. Count:     25,   Neg. LLF: 1624.71403758\n",
      "Iteration:      4,   Func. Count:     34,   Neg. LLF: 1624.68131665\n",
      "Iteration:      5,   Func. Count:     42,   Neg. LLF: 1624.58252667\n",
      "Iteration:      6,   Func. Count:     50,   Neg. LLF: 1624.5297289\n",
      "Iteration:      7,   Func. Count:     58,   Neg. LLF: 1624.47678149\n",
      "Iteration:      8,   Func. Count:     66,   Neg. LLF: 1624.43375528\n",
      "Iteration:      9,   Func. Count:     75,   Neg. LLF: 1624.42495536\n",
      "Iteration:     10,   Func. Count:     83,   Neg. LLF: 1624.4040733\n",
      "Iteration:     11,   Func. Count:     90,   Neg. LLF: 1624.40175921\n",
      "Iteration:     12,   Func. Count:     97,   Neg. LLF: 1624.40100511\n",
      "Iteration:     13,   Func. Count:    104,   Neg. LLF: 1624.40097751\n",
      "Iteration:     14,   Func. Count:    111,   Neg. LLF: 1624.40094367\n",
      "Iteration:     15,   Func. Count:    118,   Neg. LLF: 1624.40089147\n",
      "Iteration:     16,   Func. Count:    125,   Neg. LLF: 1624.40085678\n",
      "Iteration:     17,   Func. Count:    132,   Neg. LLF: 1624.40084985\n",
      "Optimization terminated successfully.    (Exit mode 0)\n",
      "            Current function value: 1624.40084985\n",
      "            Iterations: 17\n",
      "            Function evaluations: 132\n",
      "            Gradient evaluations: 17\n",
      "                   Constant Mean - GJR-GARCH Model Results                    \n",
      "==============================================================================\n",
      "Dep. Variable:                   None   R-squared:                      -0.000\n",
      "Mean Model:             Constant Mean   Adj. R-squared:                 -0.000\n",
      "Vol Model:                  GJR-GARCH   Log-Likelihood:               -1624.40\n",
      "Distribution:                  Normal   AIC:                           3258.80\n",
      "Method:            Maximum Likelihood   BIC:                           3280.52\n",
      "                                        No. Observations:                  569\n",
      "Date:                Thu, May 18 2017   Df Residuals:                      564\n",
      "Time:                        01:02:44   Df Model:                            5\n",
      "                                  Mean Model                                  \n",
      "==============================================================================\n",
      "                 coef    std err          t      P>|t|        95.0% Conf. Int.\n",
      "------------------------------------------------------------------------------\n",
      "mu             0.5597      0.166      3.379  7.284e-04       [  0.235,  0.884]\n",
      "                               Volatility Model                               \n",
      "==============================================================================\n",
      "                 coef    std err          t      P>|t|        95.0% Conf. Int.\n",
      "------------------------------------------------------------------------------\n",
      "omega          1.2540      1.907      0.657      0.511       [ -2.485,  4.993]\n",
      "alpha[1]       0.0548      0.107      0.511      0.609       [ -0.155,  0.265]\n",
      "gamma[1]       0.1097      0.161      0.683      0.495       [ -0.205,  0.424]\n",
      "beta[1]        0.8251  9.657e-02      8.545  1.288e-17       [  0.636,  1.014]\n",
      "==============================================================================\n",
      "\n",
      "Covariance estimator: robust\n"
     ]
    }
   ],
   "source": [
    "# GJR-GARCH\n",
    "\n",
    "y = SPX_df.m_ret\n",
    "mod_GJR11 = arch.arch_model(y = y, vol = 'GARCH', p = 1, o = 1, q = 1)\n",
    "\n",
    "pkg_GJR11_res = mod_GJR11.fit()\n",
    "print(pkg_GJR11_res.summary())"
   ]
  },
  {
   "cell_type": "code",
   "execution_count": null,
   "metadata": {
    "collapsed": true
   },
   "outputs": [],
   "source": []
  },
  {
   "cell_type": "code",
   "execution_count": null,
   "metadata": {
    "collapsed": true
   },
   "outputs": [],
   "source": []
  }
 ],
 "metadata": {
  "kernelspec": {
   "display_name": "Python [conda root]",
   "language": "python",
   "name": "conda-root-py"
  },
  "language_info": {
   "codemirror_mode": {
    "name": "ipython",
    "version": 2
   },
   "file_extension": ".py",
   "mimetype": "text/x-python",
   "name": "python",
   "nbconvert_exporter": "python",
   "pygments_lexer": "ipython2",
   "version": "2.7.13"
  }
 },
 "nbformat": 4,
 "nbformat_minor": 2
}
