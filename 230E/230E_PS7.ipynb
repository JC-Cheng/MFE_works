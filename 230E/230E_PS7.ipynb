{
 "cells": [
  {
   "cell_type": "code",
   "execution_count": 1,
   "metadata": {
    "collapsed": true
   },
   "outputs": [],
   "source": [
    "import pandas as pd\n",
    "import numpy as np\n",
    "import matplotlib.pyplot as plt\n",
    "import statsmodels.api as sm\n",
    "import datetime\n",
    "import scipy.optimize as opt\n",
    "\n",
    "from pandas_datareader import data, wb\n",
    "from __future__ import division\n",
    "\n",
    "import arch\n",
    "\n",
    "plt.style.use('ggplot')\n",
    "%matplotlib inline"
   ]
  },
  {
   "cell_type": "markdown",
   "metadata": {},
   "source": [
    "Download daily prices of the S&P500 index, GE and IBM from finance.yahoo.com starting in 1/1/1970."
   ]
  },
  {
   "cell_type": "code",
   "execution_count": 2,
   "metadata": {
    "collapsed": false
   },
   "outputs": [
    {
     "data": {
      "text/html": [
       "<div>\n",
       "<table border=\"1\" class=\"dataframe\">\n",
       "  <thead>\n",
       "    <tr style=\"text-align: right;\">\n",
       "      <th></th>\n",
       "      <th>Date</th>\n",
       "      <th>GE</th>\n",
       "      <th>IBM</th>\n",
       "      <th>^GSPC</th>\n",
       "    </tr>\n",
       "  </thead>\n",
       "  <tbody>\n",
       "    <tr>\n",
       "      <th>0</th>\n",
       "      <td>1970-01-02</td>\n",
       "      <td>0.176514</td>\n",
       "      <td>5.444441</td>\n",
       "      <td>93.000000</td>\n",
       "    </tr>\n",
       "    <tr>\n",
       "      <th>1</th>\n",
       "      <td>1970-01-05</td>\n",
       "      <td>0.175650</td>\n",
       "      <td>5.496684</td>\n",
       "      <td>93.459999</td>\n",
       "    </tr>\n",
       "    <tr>\n",
       "      <th>2</th>\n",
       "      <td>1970-01-06</td>\n",
       "      <td>0.170467</td>\n",
       "      <td>5.500415</td>\n",
       "      <td>92.820000</td>\n",
       "    </tr>\n",
       "    <tr>\n",
       "      <th>3</th>\n",
       "      <td>1970-01-07</td>\n",
       "      <td>0.171330</td>\n",
       "      <td>5.504147</td>\n",
       "      <td>92.629997</td>\n",
       "    </tr>\n",
       "    <tr>\n",
       "      <th>4</th>\n",
       "      <td>1970-01-08</td>\n",
       "      <td>0.172770</td>\n",
       "      <td>5.515342</td>\n",
       "      <td>92.680000</td>\n",
       "    </tr>\n",
       "  </tbody>\n",
       "</table>\n",
       "</div>"
      ],
      "text/plain": [
       "         Date        GE       IBM      ^GSPC\n",
       "0  1970-01-02  0.176514  5.444441  93.000000\n",
       "1  1970-01-05  0.175650  5.496684  93.459999\n",
       "2  1970-01-06  0.170467  5.500415  92.820000\n",
       "3  1970-01-07  0.171330  5.504147  92.629997\n",
       "4  1970-01-08  0.172770  5.515342  92.680000"
      ]
     },
     "execution_count": 2,
     "metadata": {},
     "output_type": "execute_result"
    }
   ],
   "source": [
    "px_df = pd.read_csv('./yahoo_data.csv')\n",
    "px_df.head()"
   ]
  },
  {
   "cell_type": "code",
   "execution_count": 3,
   "metadata": {
    "collapsed": true
   },
   "outputs": [],
   "source": [
    "class yahoo_finance:\n",
    "    \n",
    "    def __init__(self, raw_data, t_idx):\n",
    "        \n",
    "        self.px = pd.Series(raw_data.values, index=pd.DatetimeIndex(t_idx))\n",
    "        self.rets = np.log(self.px).diff().dropna() * 100\n",
    "        self.m_vol = np.sqrt(self.rets.apply(lambda r: r*r).groupby(pd.TimeGrouper(freq='MS')).sum())\n",
    "        self.m_ret = self.rets.groupby(pd.TimeGrouper(freq='MS')).sum()\n",
    "    \n",
    "    def display(self):\n",
    "        \n",
    "        return pd.concat([self.px, self.rets], keys=['Adj Close', 'Return'], axis=1)"
   ]
  },
  {
   "cell_type": "markdown",
   "metadata": {
    "collapsed": false
   },
   "source": [
    "s_date = datetime.datetime(1970, 1, 1)\n",
    "\n",
    "for t in yahoo_ticker.keys():\n",
    "    vars()[t + '_data'] = data.DataReader(yahoo_ticker[t], 'yahoo', start=s_date)"
   ]
  },
  {
   "cell_type": "code",
   "execution_count": 4,
   "metadata": {
    "collapsed": false
   },
   "outputs": [
    {
     "ename": "KeyError",
     "evalue": "'SPX_df'",
     "output_type": "error",
     "traceback": [
      "\u001b[0;31m---------------------------------------------------------------------------\u001b[0m",
      "\u001b[0;31mKeyError\u001b[0m                                  Traceback (most recent call last)",
      "\u001b[0;32m<ipython-input-4-7d381a2cf119>\u001b[0m in \u001b[0;36m<module>\u001b[0;34m()\u001b[0m\n\u001b[0;32m----> 1\u001b[0;31m \u001b[0mvars\u001b[0m\u001b[0;34m(\u001b[0m\u001b[0;34m)\u001b[0m\u001b[0;34m[\u001b[0m\u001b[0;34m'SPX_df'\u001b[0m\u001b[0;34m]\u001b[0m\u001b[0;34m.\u001b[0m\u001b[0mm_ret\u001b[0m\u001b[0;34m\u001b[0m\u001b[0m\n\u001b[0m",
      "\u001b[0;31mKeyError\u001b[0m: 'SPX_df'"
     ]
    }
   ],
   "source": [
    "vars()['SPX_df'].m_ret"
   ]
  },
  {
   "cell_type": "code",
   "execution_count": 5,
   "metadata": {
    "collapsed": false
   },
   "outputs": [],
   "source": [
    "yahoo_ticker = {\n",
    "    'GE': 'GE',\n",
    "    'IBM': 'IBM',\n",
    "    'SPX': '^GSPC'\n",
    "}\n",
    "\n",
    "for t in yahoo_ticker.keys():\n",
    "    vars()[t + '_df'] = yahoo_finance(px_df[yahoo_ticker[t]], px_df['Date'])"
   ]
  },
  {
   "cell_type": "code",
   "execution_count": 6,
   "metadata": {
    "collapsed": false
   },
   "outputs": [],
   "source": [
    "def LogLikelihood(r, param, GJR=True):\n",
    "    \n",
    "    # get parameters and set legal range\n",
    "    mu = param[0]\n",
    "    \n",
    "    if GJR:\n",
    "        w, alpha, beta, phi = (p for p in param[1:])\n",
    "    else:\n",
    "        w, alpha, beta = (p for p in param[1:])\n",
    "    \n",
    "    # initialize\n",
    "    T = r.shape[0]\n",
    "    eps = r - mu\n",
    "    \n",
    "    v = np.zeros(T + 1)\n",
    "    v[0] = np.mean(r * r)\n",
    "    \n",
    "    if GJR:\n",
    "        for i in range(T):\n",
    "            v[i + 1] = w + beta * v[i] + (alpha + phi if eps[i] < 0 else alpha) * eps[i] * eps[i]\n",
    "    else:\n",
    "        for i in range(T):\n",
    "            v[i + 1] = w + beta * v[i] + alpha * eps[i] * eps[i]\n",
    "\n",
    "    e = eps / np.sqrt(v[:-1]) \n",
    "    sse = e.T.dot(e)\n",
    "    \n",
    "    return -0.5 * float(T * np.log(2 * np.pi) + np.sum(np.log(v[:-1])) + sse)"
   ]
  },
  {
   "cell_type": "code",
   "execution_count": 7,
   "metadata": {
    "collapsed": false
   },
   "outputs": [],
   "source": [
    "def output_res(p, GJR=True, tick='NONE'):\n",
    "    \n",
    "    print '*****', tick, '*****'\n",
    "    print 'MEAN MODEL'\n",
    "    print '\\tmu = %.4f' %(p[0])\n",
    "    print 'VOL MODEL'\n",
    "    if GJR:\n",
    "        print '\\tomega = %.4f \\n \\talpha = %.4f \\n \\tbeta = %.4f \\n \\tphi = %.4f' %(p[1], p[2], p[3], p[4])\n",
    "    else:\n",
    "        print '\\tomega = %.4f \\n \\talpha = %.4f \\n \\tbeta = %.4f' %(p[1], p[2], p[3])"
   ]
  },
  {
   "cell_type": "markdown",
   "metadata": {
    "collapsed": true
   },
   "source": [
    "# GARCH(1,1) - constant mean mode"
   ]
  },
  {
   "cell_type": "code",
   "execution_count": 8,
   "metadata": {
    "collapsed": false
   },
   "outputs": [
    {
     "name": "stdout",
     "output_type": "stream",
     "text": [
      "Optimization terminated successfully.\n",
      "         Current function value: 1627.249798\n",
      "         Iterations: 197\n",
      "         Function evaluations: 352\n",
      "***** NONE *****\n",
      "MEAN MODEL\n",
      "\tmu = 0.6434\n",
      "VOL MODEL\n",
      "\tomega = 0.7926 \n",
      " \talpha = 0.1230 \n",
      " \tbeta = 0.8431\n"
     ]
    }
   ],
   "source": [
    "param = np.random.uniform(0, 1, 4)\n",
    "GARCH_min_object = lambda p: - LogLikelihood(SPX_df.m_ret, p, False)\n",
    "\n",
    "G11_res = opt.minimize(GARCH_min_object, param, method='nelder-mead',options={'xtol': 1e-8, 'disp': True})\n",
    "output_res(G11_res.x, False)"
   ]
  },
  {
   "cell_type": "code",
   "execution_count": 9,
   "metadata": {
    "collapsed": false
   },
   "outputs": [
    {
     "name": "stdout",
     "output_type": "stream",
     "text": [
      "Iteration:      1,   Func. Count:      6,   Neg. LLF: 1628.52151551\n",
      "Iteration:      2,   Func. Count:     16,   Neg. LLF: 1627.31390509\n",
      "Iteration:      3,   Func. Count:     24,   Neg. LLF: 1626.97718964\n",
      "Iteration:      4,   Func. Count:     32,   Neg. LLF: 1626.90395866\n",
      "Iteration:      5,   Func. Count:     40,   Neg. LLF: 1626.90119341\n",
      "Iteration:      6,   Func. Count:     47,   Neg. LLF: 1626.83029101\n",
      "Iteration:      7,   Func. Count:     53,   Neg. LLF: 1626.8208196\n",
      "Iteration:      8,   Func. Count:     59,   Neg. LLF: 1626.82056116\n",
      "Iteration:      9,   Func. Count:     65,   Neg. LLF: 1626.82051692\n",
      "Iteration:     10,   Func. Count:     71,   Neg. LLF: 1626.82051379\n",
      "Optimization terminated successfully.    (Exit mode 0)\n",
      "            Current function value: 1626.82051379\n",
      "            Iterations: 10\n",
      "            Function evaluations: 71\n",
      "            Gradient evaluations: 10\n",
      "                     Constant Mean - GARCH Model Results                      \n",
      "==============================================================================\n",
      "Dep. Variable:                   None   R-squared:                      -0.000\n",
      "Mean Model:             Constant Mean   Adj. R-squared:                 -0.000\n",
      "Vol Model:                      GARCH   Log-Likelihood:               -1626.82\n",
      "Distribution:                  Normal   AIC:                           3261.64\n",
      "Method:            Maximum Likelihood   BIC:                           3279.02\n",
      "                                        No. Observations:                  569\n",
      "Date:                Thu, May 18 2017   Df Residuals:                      565\n",
      "Time:                        02:51:05   Df Model:                            4\n",
      "                                  Mean Model                                  \n",
      "==============================================================================\n",
      "                 coef    std err          t      P>|t|        95.0% Conf. Int.\n",
      "------------------------------------------------------------------------------\n",
      "mu             0.6463      0.177      3.644  2.687e-04       [  0.299,  0.994]\n",
      "                               Volatility Model                               \n",
      "==============================================================================\n",
      "                 coef    std err          t      P>|t|        95.0% Conf. Int.\n",
      "------------------------------------------------------------------------------\n",
      "omega          0.8025      0.480      1.671  9.474e-02       [ -0.139,  1.744]\n",
      "alpha[1]       0.1232  3.309e-02      3.722  1.975e-04     [5.832e-02,  0.188]\n",
      "beta[1]        0.8423  3.596e-02     23.420 2.698e-121       [  0.772,  0.913]\n",
      "==============================================================================\n",
      "\n",
      "Covariance estimator: robust\n"
     ]
    }
   ],
   "source": [
    "y = SPX_df.m_ret\n",
    "mod_G11 = arch.arch_model(y, vol='GARCH', p=1,q=1)\n",
    "pkg_G11_res = mod_G11.fit()\n",
    "print(pkg_G11_res.summary())"
   ]
  },
  {
   "cell_type": "markdown",
   "metadata": {},
   "source": [
    "# GJR-GARCH(1,1) - constant mean mode"
   ]
  },
  {
   "cell_type": "code",
   "execution_count": 16,
   "metadata": {
    "collapsed": false
   },
   "outputs": [
    {
     "name": "stderr",
     "output_type": "stream",
     "text": [
      "/Users/jenchieh/anaconda2/lib/python2.7/site-packages/ipykernel/__main__.py:25: RuntimeWarning: invalid value encountered in sqrt\n",
      "/Users/jenchieh/anaconda2/lib/python2.7/site-packages/ipykernel/__main__.py:28: RuntimeWarning: invalid value encountered in log\n"
     ]
    },
    {
     "name": "stdout",
     "output_type": "stream",
     "text": [
      "Optimization terminated successfully.\n",
      "         Current function value: 1624.782006\n",
      "         Iterations: 360\n",
      "         Function evaluations: 634\n",
      "***** SPX *****\n",
      "MEAN MODEL\n",
      "\tmu = 0.5564\n",
      "VOL MODEL\n",
      "\tomega = 1.2407 \n",
      " \talpha = 0.0546 \n",
      " \tbeta = 0.8261 \n",
      " \tphi = 0.1099\n",
      "Iteration:      1,   Func. Count:      7,   Neg. LLF: 1625.03571925\n",
      "Iteration:      2,   Func. Count:     16,   Neg. LLF: 1624.84040732\n",
      "Iteration:      3,   Func. Count:     25,   Neg. LLF: 1624.71403758\n",
      "Iteration:      4,   Func. Count:     34,   Neg. LLF: 1624.68131665\n",
      "Iteration:      5,   Func. Count:     42,   Neg. LLF: 1624.58252667\n",
      "Iteration:      6,   Func. Count:     50,   Neg. LLF: 1624.5297289\n",
      "Iteration:      7,   Func. Count:     58,   Neg. LLF: 1624.47678149\n",
      "Iteration:      8,   Func. Count:     66,   Neg. LLF: 1624.43375528\n",
      "Iteration:      9,   Func. Count:     75,   Neg. LLF: 1624.42495536\n",
      "Iteration:     10,   Func. Count:     83,   Neg. LLF: 1624.4040733\n",
      "Iteration:     11,   Func. Count:     90,   Neg. LLF: 1624.40175921\n",
      "Iteration:     12,   Func. Count:     97,   Neg. LLF: 1624.40100511\n",
      "Iteration:     13,   Func. Count:    104,   Neg. LLF: 1624.40097751\n",
      "Iteration:     14,   Func. Count:    111,   Neg. LLF: 1624.40094367\n",
      "Iteration:     15,   Func. Count:    118,   Neg. LLF: 1624.40089147\n",
      "Iteration:     16,   Func. Count:    125,   Neg. LLF: 1624.40085678\n",
      "Iteration:     17,   Func. Count:    132,   Neg. LLF: 1624.40084985\n",
      "Optimization terminated successfully.    (Exit mode 0)\n",
      "            Current function value: 1624.40084985\n",
      "            Iterations: 17\n",
      "            Function evaluations: 132\n",
      "            Gradient evaluations: 17\n"
     ]
    },
    {
     "data": {
      "text/html": [
       "<table class=\"simpletable\">\n",
       "<caption>Constant Mean - GJR-GARCH Model Results</caption>\n",
       "<tr>\n",
       "  <th>Dep. Variable:</th>        <td>None</td>        <th>  R-squared:         </th>  <td>  -0.000</td> \n",
       "</tr>\n",
       "<tr>\n",
       "  <th>Mean Model:</th>       <td>Constant Mean</td>   <th>  Adj. R-squared:    </th>  <td>  -0.000</td> \n",
       "</tr>\n",
       "<tr>\n",
       "  <th>Vol Model:</th>          <td>GJR-GARCH</td>     <th>  Log-Likelihood:    </th> <td>  -1624.40</td>\n",
       "</tr>\n",
       "<tr>\n",
       "  <th>Distribution:</th>        <td>Normal</td>       <th>  AIC:               </th> <td>   3258.80</td>\n",
       "</tr>\n",
       "<tr>\n",
       "  <th>Method:</th>        <td>Maximum Likelihood</td> <th>  BIC:               </th> <td>   3280.52</td>\n",
       "</tr>\n",
       "<tr>\n",
       "  <th></th>                        <td></td>          <th>  No. Observations:  </th>     <td>569</td>   \n",
       "</tr>\n",
       "<tr>\n",
       "  <th>Date:</th>           <td>Thu, May 18 2017</td>  <th>  Df Residuals:      </th>     <td>564</td>   \n",
       "</tr>\n",
       "<tr>\n",
       "  <th>Time:</th>               <td>02:57:28</td>      <th>  Df Model:          </th>      <td>5</td>    \n",
       "</tr>\n",
       "</table>\n",
       "<table class=\"simpletable\">\n",
       "<caption>Mean Model</caption>\n",
       "<tr>\n",
       "   <td></td>     <th>coef</th>     <th>std err</th>      <th>t</th>       <th>P>|t|</th>   <th>95.0% Conf. Int.</th> \n",
       "</tr>\n",
       "<tr>\n",
       "  <th>mu</th> <td>    0.5597</td> <td>    0.166</td> <td>    3.379</td> <td>7.284e-04</td> <td>[  0.235,  0.884]</td>\n",
       "</tr>\n",
       "</table>\n",
       "<table class=\"simpletable\">\n",
       "<caption>Volatility Model</caption>\n",
       "<tr>\n",
       "      <td></td>        <th>coef</th>     <th>std err</th>      <th>t</th>       <th>P>|t|</th>   <th>95.0% Conf. Int.</th> \n",
       "</tr>\n",
       "<tr>\n",
       "  <th>omega</th>    <td>    1.2540</td> <td>    1.907</td> <td>    0.657</td> <td>    0.511</td> <td>[ -2.485,  4.993]</td>\n",
       "</tr>\n",
       "<tr>\n",
       "  <th>alpha[1]</th> <td>    0.0548</td> <td>    0.107</td> <td>    0.511</td> <td>    0.609</td> <td>[ -0.155,  0.265]</td>\n",
       "</tr>\n",
       "<tr>\n",
       "  <th>gamma[1]</th> <td>    0.1097</td> <td>    0.161</td> <td>    0.683</td> <td>    0.495</td> <td>[ -0.205,  0.424]</td>\n",
       "</tr>\n",
       "<tr>\n",
       "  <th>beta[1]</th>  <td>    0.8251</td> <td>9.657e-02</td> <td>    8.545</td> <td>1.288e-17</td> <td>[  0.636,  1.014]</td>\n",
       "</tr>\n",
       "</table>"
      ],
      "text/plain": [
       "<class 'statsmodels.iolib.summary.Summary'>\n",
       "\"\"\"\n",
       "                   Constant Mean - GJR-GARCH Model Results                    \n",
       "==============================================================================\n",
       "Dep. Variable:                   None   R-squared:                      -0.000\n",
       "Mean Model:             Constant Mean   Adj. R-squared:                 -0.000\n",
       "Vol Model:                  GJR-GARCH   Log-Likelihood:               -1624.40\n",
       "Distribution:                  Normal   AIC:                           3258.80\n",
       "Method:            Maximum Likelihood   BIC:                           3280.52\n",
       "                                        No. Observations:                  569\n",
       "Date:                Thu, May 18 2017   Df Residuals:                      564\n",
       "Time:                        02:57:28   Df Model:                            5\n",
       "                                  Mean Model                                  \n",
       "==============================================================================\n",
       "                 coef    std err          t      P>|t|        95.0% Conf. Int.\n",
       "------------------------------------------------------------------------------\n",
       "mu             0.5597      0.166      3.379  7.284e-04       [  0.235,  0.884]\n",
       "                               Volatility Model                               \n",
       "==============================================================================\n",
       "                 coef    std err          t      P>|t|        95.0% Conf. Int.\n",
       "------------------------------------------------------------------------------\n",
       "omega          1.2540      1.907      0.657      0.511       [ -2.485,  4.993]\n",
       "alpha[1]       0.0548      0.107      0.511      0.609       [ -0.155,  0.265]\n",
       "gamma[1]       0.1097      0.161      0.683      0.495       [ -0.205,  0.424]\n",
       "beta[1]        0.8251  9.657e-02      8.545  1.288e-17       [  0.636,  1.014]\n",
       "==============================================================================\n",
       "\n",
       "Covariance estimator: robust\n",
       "\"\"\""
      ]
     },
     "execution_count": 16,
     "metadata": {},
     "output_type": "execute_result"
    }
   ],
   "source": [
    "#SPX\n",
    "\n",
    "y = SPX_df.m_ret\n",
    "t = 'SPX'\n",
    "\n",
    "param = np.random.uniform(0, 1, 5)\n",
    "GJR_min_object = lambda p: - LogLikelihood(y, p)\n",
    "\n",
    "GJR11_res = opt.minimize(GJR_min_object, param, method='nelder-mead',options={'xtol': 1e-8, 'disp': True})\n",
    "output_res(GJR11_res.x, tick=t)\n",
    "\n",
    "mod_GJR11 = arch.arch_model(y=y, vol='GARCH', p=1, o=1, q=1)\n",
    "\n",
    "pkg_GJR11_res = mod_GJR11.fit()\n",
    "pkg_GJR11_res.summary()"
   ]
  },
  {
   "cell_type": "code",
   "execution_count": 15,
   "metadata": {
    "collapsed": false
   },
   "outputs": [
    {
     "name": "stdout",
     "output_type": "stream",
     "text": [
      "Optimization terminated successfully.\n",
      "         Current function value: 1862.124205\n",
      "         Iterations: 473\n",
      "         Function evaluations: 814\n",
      "***** GE *****\n",
      "MEAN MODEL\n",
      "\tmu = 0.9392\n",
      "VOL MODEL\n",
      "\tomega = 3.1897 \n",
      " \talpha = 0.0603 \n",
      " \tbeta = 0.8175 \n",
      " \tphi = 0.1031\n",
      "Iteration:      1,   Func. Count:      7,   Neg. LLF: 1863.24076512\n",
      "Iteration:      2,   Func. Count:     16,   Neg. LLF: 1862.84400569\n",
      "Iteration:      3,   Func. Count:     25,   Neg. LLF: 1862.49549047\n",
      "Iteration:      4,   Func. Count:     33,   Neg. LLF: 1862.40275967\n",
      "Iteration:      5,   Func. Count:     41,   Neg. LLF: 1862.28961606\n",
      "Iteration:      6,   Func. Count:     49,   Neg. LLF: 1862.11479407\n",
      "Iteration:      7,   Func. Count:     57,   Neg. LLF: 1862.08982641\n",
      "Iteration:      8,   Func. Count:     65,   Neg. LLF: 1862.06100405\n",
      "Iteration:      9,   Func. Count:     72,   Neg. LLF: 1862.05933994\n",
      "Iteration:     10,   Func. Count:     79,   Neg. LLF: 1862.0592528\n",
      "Iteration:     11,   Func. Count:     86,   Neg. LLF: 1862.05925095\n",
      "Optimization terminated successfully.    (Exit mode 0)\n",
      "            Current function value: 1862.05925095\n",
      "            Iterations: 11\n",
      "            Function evaluations: 86\n",
      "            Gradient evaluations: 11\n"
     ]
    },
    {
     "data": {
      "text/html": [
       "<table class=\"simpletable\">\n",
       "<caption>Constant Mean - GJR-GARCH Model Results</caption>\n",
       "<tr>\n",
       "  <th>Dep. Variable:</th>        <td>None</td>        <th>  R-squared:         </th>  <td>  -0.000</td> \n",
       "</tr>\n",
       "<tr>\n",
       "  <th>Mean Model:</th>       <td>Constant Mean</td>   <th>  Adj. R-squared:    </th>  <td>  -0.000</td> \n",
       "</tr>\n",
       "<tr>\n",
       "  <th>Vol Model:</th>          <td>GJR-GARCH</td>     <th>  Log-Likelihood:    </th> <td>  -1862.06</td>\n",
       "</tr>\n",
       "<tr>\n",
       "  <th>Distribution:</th>        <td>Normal</td>       <th>  AIC:               </th> <td>   3734.12</td>\n",
       "</tr>\n",
       "<tr>\n",
       "  <th>Method:</th>        <td>Maximum Likelihood</td> <th>  BIC:               </th> <td>   3755.84</td>\n",
       "</tr>\n",
       "<tr>\n",
       "  <th></th>                        <td></td>          <th>  No. Observations:  </th>     <td>569</td>   \n",
       "</tr>\n",
       "<tr>\n",
       "  <th>Date:</th>           <td>Thu, May 18 2017</td>  <th>  Df Residuals:      </th>     <td>564</td>   \n",
       "</tr>\n",
       "<tr>\n",
       "  <th>Time:</th>               <td>02:55:16</td>      <th>  Df Model:          </th>      <td>5</td>    \n",
       "</tr>\n",
       "</table>\n",
       "<table class=\"simpletable\">\n",
       "<caption>Mean Model</caption>\n",
       "<tr>\n",
       "   <td></td>     <th>coef</th>     <th>std err</th>      <th>t</th>       <th>P>|t|</th>   <th>95.0% Conf. Int.</th> \n",
       "</tr>\n",
       "<tr>\n",
       "  <th>mu</th> <td>    0.9386</td> <td>    0.258</td> <td>    3.635</td> <td>2.776e-04</td> <td>[  0.433,  1.445]</td>\n",
       "</tr>\n",
       "</table>\n",
       "<table class=\"simpletable\">\n",
       "<caption>Volatility Model</caption>\n",
       "<tr>\n",
       "      <td></td>        <th>coef</th>     <th>std err</th>      <th>t</th>       <th>P>|t|</th>     <th>95.0% Conf. Int.</th>  \n",
       "</tr>\n",
       "<tr>\n",
       "  <th>omega</th>    <td>    3.2147</td> <td>    1.718</td> <td>    1.871</td> <td>6.138e-02</td>   <td>[ -0.153,  6.583]</td> \n",
       "</tr>\n",
       "<tr>\n",
       "  <th>alpha[1]</th> <td>    0.0599</td> <td>3.884e-02</td> <td>    1.542</td> <td>    0.123</td> <td>[-1.624e-02,  0.136]</td>\n",
       "</tr>\n",
       "<tr>\n",
       "  <th>gamma[1]</th> <td>    0.1038</td> <td>7.148e-02</td> <td>    1.452</td> <td>    0.147</td> <td>[-3.632e-02,  0.244]</td>\n",
       "</tr>\n",
       "<tr>\n",
       "  <th>beta[1]</th>  <td>    0.8171</td> <td>4.595e-02</td> <td>   17.782</td> <td>9.702e-71</td>   <td>[  0.727,  0.907]</td> \n",
       "</tr>\n",
       "</table>"
      ],
      "text/plain": [
       "<class 'statsmodels.iolib.summary.Summary'>\n",
       "\"\"\"\n",
       "                   Constant Mean - GJR-GARCH Model Results                    \n",
       "==============================================================================\n",
       "Dep. Variable:                   None   R-squared:                      -0.000\n",
       "Mean Model:             Constant Mean   Adj. R-squared:                 -0.000\n",
       "Vol Model:                  GJR-GARCH   Log-Likelihood:               -1862.06\n",
       "Distribution:                  Normal   AIC:                           3734.12\n",
       "Method:            Maximum Likelihood   BIC:                           3755.84\n",
       "                                        No. Observations:                  569\n",
       "Date:                Thu, May 18 2017   Df Residuals:                      564\n",
       "Time:                        02:55:16   Df Model:                            5\n",
       "                                  Mean Model                                  \n",
       "==============================================================================\n",
       "                 coef    std err          t      P>|t|        95.0% Conf. Int.\n",
       "------------------------------------------------------------------------------\n",
       "mu             0.9386      0.258      3.635  2.776e-04       [  0.433,  1.445]\n",
       "                               Volatility Model                               \n",
       "==============================================================================\n",
       "                 coef    std err          t      P>|t|        95.0% Conf. Int.\n",
       "------------------------------------------------------------------------------\n",
       "omega          3.2147      1.718      1.871  6.138e-02       [ -0.153,  6.583]\n",
       "alpha[1]       0.0599  3.884e-02      1.542      0.123    [-1.624e-02,  0.136]\n",
       "gamma[1]       0.1038  7.148e-02      1.452      0.147    [-3.632e-02,  0.244]\n",
       "beta[1]        0.8171  4.595e-02     17.782  9.702e-71       [  0.727,  0.907]\n",
       "==============================================================================\n",
       "\n",
       "Covariance estimator: robust\n",
       "\"\"\""
      ]
     },
     "execution_count": 15,
     "metadata": {},
     "output_type": "execute_result"
    }
   ],
   "source": [
    "#GE\n",
    "\n",
    "y = GE_df.m_ret\n",
    "t = 'GE'\n",
    "\n",
    "param = np.random.uniform(0, 1, 5)\n",
    "GJR_min_object = lambda p: - LogLikelihood(y, p)\n",
    "\n",
    "GJR11_res = opt.minimize(GJR_min_object, param, method='nelder-mead',options={'xtol': 1e-8, 'disp': True})\n",
    "output_res(GJR11_res.x, tick=t)\n",
    "\n",
    "mod_GJR11 = arch.arch_model(y=y, vol='GARCH', p=1, o=1, q=1)\n",
    "\n",
    "pkg_GJR11_res = mod_GJR11.fit()\n",
    "pkg_GJR11_res.summary()"
   ]
  },
  {
   "cell_type": "code",
   "execution_count": 17,
   "metadata": {
    "collapsed": false
   },
   "outputs": [
    {
     "name": "stderr",
     "output_type": "stream",
     "text": [
      "/Users/jenchieh/anaconda2/lib/python2.7/site-packages/ipykernel/__main__.py:25: RuntimeWarning: invalid value encountered in sqrt\n",
      "/Users/jenchieh/anaconda2/lib/python2.7/site-packages/ipykernel/__main__.py:28: RuntimeWarning: invalid value encountered in log\n"
     ]
    },
    {
     "name": "stdout",
     "output_type": "stream",
     "text": [
      "Optimization terminated successfully.\n",
      "         Current function value: 1888.054468\n",
      "         Iterations: 493\n",
      "         Function evaluations: 842\n",
      "***** IBM *****\n",
      "MEAN MODEL\n",
      "\tmu = 0.5888\n",
      "VOL MODEL\n",
      "\tomega = 4.1427 \n",
      " \talpha = 0.0649 \n",
      " \tbeta = 0.7980 \n",
      " \tphi = 0.1066\n",
      "Iteration:      1,   Func. Count:      7,   Neg. LLF: 1888.62430986\n",
      "Iteration:      2,   Func. Count:     16,   Neg. LLF: 1888.36152393\n",
      "Iteration:      3,   Func. Count:     25,   Neg. LLF: 1888.25662739\n",
      "Iteration:      4,   Func. Count:     34,   Neg. LLF: 1888.23111245\n",
      "Iteration:      5,   Func. Count:     43,   Neg. LLF: 1888.23052729\n",
      "Iteration:      6,   Func. Count:     50,   Neg. LLF: 1888.16271325\n",
      "Iteration:      7,   Func. Count:     57,   Neg. LLF: 1888.14618833\n",
      "Iteration:      8,   Func. Count:     64,   Neg. LLF: 1888.14585512\n",
      "Iteration:      9,   Func. Count:     71,   Neg. LLF: 1888.14584959\n",
      "Optimization terminated successfully.    (Exit mode 0)\n",
      "            Current function value: 1888.14584959\n",
      "            Iterations: 9\n",
      "            Function evaluations: 71\n",
      "            Gradient evaluations: 9\n"
     ]
    },
    {
     "data": {
      "text/html": [
       "<table class=\"simpletable\">\n",
       "<caption>Constant Mean - GJR-GARCH Model Results</caption>\n",
       "<tr>\n",
       "  <th>Dep. Variable:</th>        <td>None</td>        <th>  R-squared:         </th>  <td>  -0.000</td> \n",
       "</tr>\n",
       "<tr>\n",
       "  <th>Mean Model:</th>       <td>Constant Mean</td>   <th>  Adj. R-squared:    </th>  <td>  -0.000</td> \n",
       "</tr>\n",
       "<tr>\n",
       "  <th>Vol Model:</th>          <td>GJR-GARCH</td>     <th>  Log-Likelihood:    </th> <td>  -1888.15</td>\n",
       "</tr>\n",
       "<tr>\n",
       "  <th>Distribution:</th>        <td>Normal</td>       <th>  AIC:               </th> <td>   3786.29</td>\n",
       "</tr>\n",
       "<tr>\n",
       "  <th>Method:</th>        <td>Maximum Likelihood</td> <th>  BIC:               </th> <td>   3808.01</td>\n",
       "</tr>\n",
       "<tr>\n",
       "  <th></th>                        <td></td>          <th>  No. Observations:  </th>     <td>569</td>   \n",
       "</tr>\n",
       "<tr>\n",
       "  <th>Date:</th>           <td>Thu, May 18 2017</td>  <th>  Df Residuals:      </th>     <td>564</td>   \n",
       "</tr>\n",
       "<tr>\n",
       "  <th>Time:</th>               <td>03:02:03</td>      <th>  Df Model:          </th>      <td>5</td>    \n",
       "</tr>\n",
       "</table>\n",
       "<table class=\"simpletable\">\n",
       "<caption>Mean Model</caption>\n",
       "<tr>\n",
       "   <td></td>     <th>coef</th>     <th>std err</th>      <th>t</th>       <th>P>|t|</th>    <th>95.0% Conf. Int.</th>  \n",
       "</tr>\n",
       "<tr>\n",
       "  <th>mu</th> <td>    0.5827</td> <td>    0.258</td> <td>    2.258</td> <td>2.392e-02</td> <td>[7.702e-02,  1.088]</td>\n",
       "</tr>\n",
       "</table>\n",
       "<table class=\"simpletable\">\n",
       "<caption>Volatility Model</caption>\n",
       "<tr>\n",
       "      <td></td>        <th>coef</th>     <th>std err</th>      <th>t</th>       <th>P>|t|</th>     <th>95.0% Conf. Int.</th>  \n",
       "</tr>\n",
       "<tr>\n",
       "  <th>omega</th>    <td>    4.1312</td> <td>    2.638</td> <td>    1.566</td> <td>    0.117</td>   <td>[ -1.039,  9.302]</td> \n",
       "</tr>\n",
       "<tr>\n",
       "  <th>alpha[1]</th> <td>    0.0644</td> <td>2.718e-02</td> <td>    2.369</td> <td>1.784e-02</td>  <td>[1.112e-02,  0.118]</td>\n",
       "</tr>\n",
       "<tr>\n",
       "  <th>gamma[1]</th> <td>    0.1071</td> <td>9.903e-02</td> <td>    1.082</td> <td>    0.279</td> <td>[-8.699e-02,  0.301]</td>\n",
       "</tr>\n",
       "<tr>\n",
       "  <th>beta[1]</th>  <td>    0.7988</td> <td>8.426e-02</td> <td>    9.480</td> <td>2.541e-21</td>   <td>[  0.634,  0.964]</td> \n",
       "</tr>\n",
       "</table>"
      ],
      "text/plain": [
       "<class 'statsmodels.iolib.summary.Summary'>\n",
       "\"\"\"\n",
       "                   Constant Mean - GJR-GARCH Model Results                    \n",
       "==============================================================================\n",
       "Dep. Variable:                   None   R-squared:                      -0.000\n",
       "Mean Model:             Constant Mean   Adj. R-squared:                 -0.000\n",
       "Vol Model:                  GJR-GARCH   Log-Likelihood:               -1888.15\n",
       "Distribution:                  Normal   AIC:                           3786.29\n",
       "Method:            Maximum Likelihood   BIC:                           3808.01\n",
       "                                        No. Observations:                  569\n",
       "Date:                Thu, May 18 2017   Df Residuals:                      564\n",
       "Time:                        03:02:03   Df Model:                            5\n",
       "                                  Mean Model                                  \n",
       "==============================================================================\n",
       "                 coef    std err          t      P>|t|        95.0% Conf. Int.\n",
       "------------------------------------------------------------------------------\n",
       "mu             0.5827      0.258      2.258  2.392e-02     [7.702e-02,  1.088]\n",
       "                               Volatility Model                               \n",
       "==============================================================================\n",
       "                 coef    std err          t      P>|t|        95.0% Conf. Int.\n",
       "------------------------------------------------------------------------------\n",
       "omega          4.1312      2.638      1.566      0.117       [ -1.039,  9.302]\n",
       "alpha[1]       0.0644  2.718e-02      2.369  1.784e-02     [1.112e-02,  0.118]\n",
       "gamma[1]       0.1071  9.903e-02      1.082      0.279    [-8.699e-02,  0.301]\n",
       "beta[1]        0.7988  8.426e-02      9.480  2.541e-21       [  0.634,  0.964]\n",
       "==============================================================================\n",
       "\n",
       "Covariance estimator: robust\n",
       "\"\"\""
      ]
     },
     "execution_count": 17,
     "metadata": {},
     "output_type": "execute_result"
    }
   ],
   "source": [
    "#IBM\n",
    "\n",
    "y = IBM_df.m_ret\n",
    "t = 'IBM'\n",
    "\n",
    "param = np.random.uniform(0, 1, 5)\n",
    "GJR_min_object = lambda p: - LogLikelihood(y, p)\n",
    "\n",
    "GJR11_res = opt.minimize(GJR_min_object, param, method='nelder-mead',options={'xtol': 1e-8, 'disp': True})\n",
    "output_res(GJR11_res.x, tick=t)\n",
    "\n",
    "mod_GJR11 = arch.arch_model(y=y, vol='GARCH', p=1, o=1, q=1)\n",
    "\n",
    "pkg_GJR11_res = mod_GJR11.fit()\n",
    "pkg_GJR11_res.summary()"
   ]
  },
  {
   "cell_type": "code",
   "execution_count": null,
   "metadata": {
    "collapsed": true
   },
   "outputs": [],
   "source": []
  }
 ],
 "metadata": {
  "kernelspec": {
   "display_name": "Python [conda root]",
   "language": "python",
   "name": "conda-root-py"
  },
  "language_info": {
   "codemirror_mode": {
    "name": "ipython",
    "version": 2
   },
   "file_extension": ".py",
   "mimetype": "text/x-python",
   "name": "python",
   "nbconvert_exporter": "python",
   "pygments_lexer": "ipython2",
   "version": "2.7.13"
  }
 },
 "nbformat": 4,
 "nbformat_minor": 2
}
