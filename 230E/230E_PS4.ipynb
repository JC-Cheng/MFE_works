{
 "cells": [
  {
   "cell_type": "code",
   "execution_count": 93,
   "metadata": {
    "collapsed": false
   },
   "outputs": [],
   "source": [
    "import pandas as pd\n",
    "import numpy as np\n",
    "import matplotlib.pyplot as plt\n",
    "import statsmodels.api as sm\n",
    "import scipy.optimize as opt\n",
    "from __future__ import division\n",
    "\n",
    "plt.style.use('ggplot')\n",
    "%matplotlib inline"
   ]
  },
  {
   "cell_type": "code",
   "execution_count": 6,
   "metadata": {
    "collapsed": false
   },
   "outputs": [
    {
     "data": {
      "text/html": [
       "<div>\n",
       "<table border=\"1\" class=\"dataframe\">\n",
       "  <thead>\n",
       "    <tr style=\"text-align: right;\">\n",
       "      <th></th>\n",
       "      <th>Rate</th>\n",
       "    </tr>\n",
       "    <tr>\n",
       "      <th>DATE</th>\n",
       "      <th></th>\n",
       "    </tr>\n",
       "  </thead>\n",
       "  <tbody>\n",
       "    <tr>\n",
       "      <th>1953-04-01</th>\n",
       "      <td>2.83</td>\n",
       "    </tr>\n",
       "    <tr>\n",
       "      <th>1953-05-01</th>\n",
       "      <td>3.05</td>\n",
       "    </tr>\n",
       "    <tr>\n",
       "      <th>1953-06-01</th>\n",
       "      <td>3.11</td>\n",
       "    </tr>\n",
       "    <tr>\n",
       "      <th>1953-07-01</th>\n",
       "      <td>2.93</td>\n",
       "    </tr>\n",
       "    <tr>\n",
       "      <th>1953-08-01</th>\n",
       "      <td>2.95</td>\n",
       "    </tr>\n",
       "  </tbody>\n",
       "</table>\n",
       "</div>"
      ],
      "text/plain": [
       "            Rate\n",
       "DATE            \n",
       "1953-04-01  2.83\n",
       "1953-05-01  3.05\n",
       "1953-06-01  3.11\n",
       "1953-07-01  2.93\n",
       "1953-08-01  2.95"
      ]
     },
     "execution_count": 6,
     "metadata": {},
     "output_type": "execute_result"
    }
   ],
   "source": [
    "TB = pd.read_excel('./Tbill10yr.xls',skiprows=14,convert_float=True,names=['Rate'],index_col=0)\n",
    "TB.head()"
   ]
  },
  {
   "cell_type": "code",
   "execution_count": 7,
   "metadata": {
    "collapsed": false
   },
   "outputs": [
    {
     "name": "stdout",
     "output_type": "stream",
     "text": [
      "<class 'pandas.core.frame.DataFrame'>\n",
      "DatetimeIndex: 731 entries, 1953-04-01 to 2014-02-01\n",
      "Data columns (total 1 columns):\n",
      "Rate    731 non-null float64\n",
      "dtypes: float64(1)\n",
      "memory usage: 11.4 KB\n"
     ]
    }
   ],
   "source": [
    "TB.info()"
   ]
  },
  {
   "cell_type": "code",
   "execution_count": 8,
   "metadata": {
    "collapsed": false
   },
   "outputs": [
    {
     "data": {
      "text/plain": [
       "<matplotlib.axes._subplots.AxesSubplot at 0x10db301d0>"
      ]
     },
     "execution_count": 8,
     "metadata": {},
     "output_type": "execute_result"
    },
    {
     "data": {
      "image/png": "[encoded data removed]",
      "text/plain": [
       "<matplotlib.figure.Figure at 0x10d820490>"
      ]
     },
     "metadata": {},
     "output_type": "display_data"
    }
   ],
   "source": [
    "TB.plot()"
   ]
  },
  {
   "cell_type": "markdown",
   "metadata": {},
   "source": [
    "### OLS"
   ]
  },
  {
   "cell_type": "code",
   "execution_count": 62,
   "metadata": {
    "collapsed": false
   },
   "outputs": [],
   "source": [
    "def OLS(Y, X, const=True):\n",
    "    Y = np.array(Y)\n",
    "    X = np.c_[np.ones(np.shape(Y)),np.array(X)] if const else np.array(X)\n",
    "    \n",
    "    cov = np.dot(np.transpose(X),Y)\n",
    "    var = np.dot(np.transpose(X),X)\n",
    "\n",
    "    b = np.dot(np.linalg.inv(var), cov) if np.shape(var) != () else cov / var\n",
    "\n",
    "    return b if b.shape!=(1,1) else float(b)\n",
    "\n",
    "def AR_preprocess(TS, ar_lags=1):\n",
    "    \n",
    "    df = pd.DataFrame({'y': TS})\n",
    "    for i in range(1, ar_lags + 1):\n",
    "        df['x_t' + str(i)] = df.y.shift(i)\n",
    "        \n",
    "    df.dropna(inplace=True)\n",
    "        \n",
    "    return df"
   ]
  },
  {
   "cell_type": "code",
   "execution_count": 99,
   "metadata": {
    "collapsed": false
   },
   "outputs": [],
   "source": [
    "def LogLikelihood(df, c, phi, v):\n",
    "    \n",
    "    v = abs(v)\n",
    "    e = df.y - c - df.iloc[:,1:].dot(np.array(phi))\n",
    "    T = df.shape[0]\n",
    "    \n",
    "    sse = e.T.dot(e)\n",
    "    \n",
    "    return float(-T / 2 * (np.log(2 * np.pi * v)) - sse / (2 * v))"
   ]
  },
  {
   "cell_type": "markdown",
   "metadata": {},
   "source": [
    "### AR(1)"
   ]
  },
  {
   "cell_type": "code",
   "execution_count": 107,
   "metadata": {
    "collapsed": false
   },
   "outputs": [
    {
     "data": {
      "text/plain": [
       "array([ 0.02911663,  0.99520032])"
      ]
     },
     "execution_count": 107,
     "metadata": {},
     "output_type": "execute_result"
    }
   ],
   "source": [
    "df = AR_preprocess(TB.values.ravel(),1)\n",
    "\n",
    "y, X = df.y, df.values[:,1:] #sm.add_constant(df.values[:,1:])\n",
    "beta = OLS(y, X)\n",
    "beta"
   ]
  },
  {
   "cell_type": "code",
   "execution_count": 108,
   "metadata": {
    "collapsed": false
   },
   "outputs": [
    {
     "name": "stdout",
     "output_type": "stream",
     "text": [
      "c: 0.0291\n",
      "phi: 0.9952\n",
      "sigma^2: 0.0747\n"
     ]
    },
    {
     "data": {
      "text/plain": [
       "0.27337530395171644"
      ]
     },
     "execution_count": 108,
     "metadata": {},
     "output_type": "execute_result"
    }
   ],
   "source": [
    "ar1_min_object = lambda p: - LogLikelihood(df, p[0], np.array([p[1]]), p[2])\n",
    "res = opt.minimize(ar1_min_object, [0, 1, 1])\n",
    "\n",
    "my_theta = res.x\n",
    "print 'c: %.4f\\nphi: %.4f\\nsigma^2: %.4f'% tuple(my_theta)\n",
    "my_theta[-1] ** 0.5"
   ]
  },
  {
   "cell_type": "code",
   "execution_count": 113,
   "metadata": {
    "collapsed": false
   },
   "outputs": [
    {
     "data": {
      "text/html": [
       "<table class=\"simpletable\">\n",
       "<caption>ARMA Model Results</caption>\n",
       "<tr>\n",
       "  <th>Dep. Variable:</th>         <td>y</td>        <th>  No. Observations:  </th>   <td>731</td>  \n",
       "</tr>\n",
       "<tr>\n",
       "  <th>Model:</th>            <td>ARMA(1, 0)</td>    <th>  Log Likelihood     </th> <td>-91.453</td>\n",
       "</tr>\n",
       "<tr>\n",
       "  <th>Method:</th>             <td>css-mle</td>     <th>  S.D. of innovations</th>  <td>0.273</td> \n",
       "</tr>\n",
       "<tr>\n",
       "  <th>Date:</th>          <td>Sun, 30 Apr 2017</td> <th>  AIC                </th> <td>188.906</td>\n",
       "</tr>\n",
       "<tr>\n",
       "  <th>Time:</th>              <td>22:21:34</td>     <th>  BIC                </th> <td>202.689</td>\n",
       "</tr>\n",
       "<tr>\n",
       "  <th>Sample:</th>                <td>0</td>        <th>  HQIC               </th> <td>194.224</td>\n",
       "</tr>\n",
       "<tr>\n",
       "  <th></th>                       <td> </td>        <th>                     </th>    <td> </td>   \n",
       "</tr>\n",
       "</table>\n",
       "<table class=\"simpletable\">\n",
       "<tr>\n",
       "     <td></td>        <th>coef</th>     <th>std err</th>      <th>z</th>      <th>P>|z|</th> <th>[95.0% Conf. Int.]</th> \n",
       "</tr>\n",
       "<tr>\n",
       "  <th>const</th>   <td>    4.8613</td> <td>    1.815</td> <td>    2.678</td> <td> 0.008</td> <td>    1.303     8.419</td>\n",
       "</tr>\n",
       "<tr>\n",
       "  <th>ar.L1.y</th> <td>    0.9954</td> <td>    0.003</td> <td>  321.138</td> <td> 0.000</td> <td>    0.989     1.001</td>\n",
       "</tr>\n",
       "</table>\n",
       "<table class=\"simpletable\">\n",
       "<caption>Roots</caption>\n",
       "<tr>\n",
       "    <td></td>   <th>           Real</th> <th>         Imaginary</th> <th>         Modulus</th> <th>        Frequency</th>\n",
       "</tr>\n",
       "<tr>\n",
       "  <th>AR.1</th>               1.0046                    +0.0000j                    1.0046                    0.0000     \n",
       "</tr>\n",
       "</table>"
      ],
      "text/plain": [
       "<class 'statsmodels.iolib.summary.Summary'>\n",
       "\"\"\"\n",
       "                              ARMA Model Results                              \n",
       "==============================================================================\n",
       "Dep. Variable:                      y   No. Observations:                  731\n",
       "Model:                     ARMA(1, 0)   Log Likelihood                 -91.453\n",
       "Method:                       css-mle   S.D. of innovations              0.273\n",
       "Date:                Sun, 30 Apr 2017   AIC                            188.906\n",
       "Time:                        22:21:34   BIC                            202.689\n",
       "Sample:                             0   HQIC                           194.224\n",
       "                                                                              \n",
       "==============================================================================\n",
       "                 coef    std err          z      P>|z|      [95.0% Conf. Int.]\n",
       "------------------------------------------------------------------------------\n",
       "const          4.8613      1.815      2.678      0.008         1.303     8.419\n",
       "ar.L1.y        0.9954      0.003    321.138      0.000         0.989     1.001\n",
       "                                    Roots                                    \n",
       "=============================================================================\n",
       "                 Real           Imaginary           Modulus         Frequency\n",
       "-----------------------------------------------------------------------------\n",
       "AR.1            1.0046           +0.0000j            1.0046            0.0000\n",
       "-----------------------------------------------------------------------------\n",
       "\"\"\""
      ]
     },
     "execution_count": 113,
     "metadata": {},
     "output_type": "execute_result"
    }
   ],
   "source": [
    "arma_model = sm.tsa.ARMA(TB.values, order=(1,0))\n",
    "\n",
    "ests = arma_model.fit(maxiter=500, trend='c')\n",
    "ests.summary()"
   ]
  },
  {
   "cell_type": "markdown",
   "metadata": {},
   "source": [
    "### AR(2)"
   ]
  },
  {
   "cell_type": "code",
   "execution_count": 110,
   "metadata": {
    "collapsed": false
   },
   "outputs": [
    {
     "data": {
      "text/plain": [
       "array([ 0.03729302,  1.30381248, -0.30999947])"
      ]
     },
     "execution_count": 110,
     "metadata": {},
     "output_type": "execute_result"
    }
   ],
   "source": [
    "df = AR_preprocess(TB.values.ravel(), 2)\n",
    "\n",
    "y, X = df.y, df.values[:,1:] #sm.add_constant(df.values[:,1:])\n",
    "beta = OLS(y, X)\n",
    "beta"
   ]
  },
  {
   "cell_type": "code",
   "execution_count": 111,
   "metadata": {
    "collapsed": false
   },
   "outputs": [
    {
     "name": "stdout",
     "output_type": "stream",
     "text": [
      "c: 0.0373\n",
      "phi_1: 1.3038\n",
      "phi_2: -0.3100\n",
      "sigma^2: 0.0676\n"
     ]
    },
    {
     "data": {
      "text/plain": [
       "0.25998197516366006"
      ]
     },
     "execution_count": 111,
     "metadata": {},
     "output_type": "execute_result"
    }
   ],
   "source": [
    "ar2_min_object = lambda p: - LogLikelihood(df, p[0], np.array([p[1], p[2]]), p[3])\n",
    "res = opt.minimize(ar2_min_object, [0, 1, 1, 1])\n",
    "my_theta = res.x\n",
    "print 'c: %.4f\\nphi_1: %.4f\\nphi_2: %.4f\\nsigma^2: %.4f'% tuple(my_theta)\n",
    "my_theta[-1] ** 0.5"
   ]
  },
  {
   "cell_type": "code",
   "execution_count": 114,
   "metadata": {
    "collapsed": false
   },
   "outputs": [
    {
     "data": {
      "text/html": [
       "<table class=\"simpletable\">\n",
       "<caption>ARMA Model Results</caption>\n",
       "<tr>\n",
       "  <th>Dep. Variable:</th>         <td>y</td>        <th>  No. Observations:  </th>   <td>731</td>  \n",
       "</tr>\n",
       "<tr>\n",
       "  <th>Model:</th>            <td>ARMA(2, 0)</td>    <th>  Log Likelihood     </th> <td>-54.699</td>\n",
       "</tr>\n",
       "<tr>\n",
       "  <th>Method:</th>             <td>css-mle</td>     <th>  S.D. of innovations</th>  <td>0.260</td> \n",
       "</tr>\n",
       "<tr>\n",
       "  <th>Date:</th>          <td>Sun, 30 Apr 2017</td> <th>  AIC                </th> <td>117.397</td>\n",
       "</tr>\n",
       "<tr>\n",
       "  <th>Time:</th>              <td>22:21:41</td>     <th>  BIC                </th> <td>135.775</td>\n",
       "</tr>\n",
       "<tr>\n",
       "  <th>Sample:</th>                <td>0</td>        <th>  HQIC               </th> <td>124.487</td>\n",
       "</tr>\n",
       "<tr>\n",
       "  <th></th>                       <td> </td>        <th>                     </th>    <td> </td>   \n",
       "</tr>\n",
       "</table>\n",
       "<table class=\"simpletable\">\n",
       "<tr>\n",
       "     <td></td>        <th>coef</th>     <th>std err</th>      <th>z</th>      <th>P>|z|</th> <th>[95.0% Conf. Int.]</th> \n",
       "</tr>\n",
       "<tr>\n",
       "  <th>const</th>   <td>    5.2881</td> <td>    1.431</td> <td>    3.694</td> <td> 0.000</td> <td>    2.483     8.094</td>\n",
       "</tr>\n",
       "<tr>\n",
       "  <th>ar.L1.y</th> <td>    1.3035</td> <td>    0.035</td> <td>   37.093</td> <td> 0.000</td> <td>    1.235     1.372</td>\n",
       "</tr>\n",
       "<tr>\n",
       "  <th>ar.L2.y</th> <td>   -0.3095</td> <td>    0.035</td> <td>   -8.796</td> <td> 0.000</td> <td>   -0.378    -0.241</td>\n",
       "</tr>\n",
       "</table>\n",
       "<table class=\"simpletable\">\n",
       "<caption>Roots</caption>\n",
       "<tr>\n",
       "    <td></td>   <th>           Real</th> <th>         Imaginary</th> <th>         Modulus</th> <th>        Frequency</th>\n",
       "</tr>\n",
       "<tr>\n",
       "  <th>AR.1</th>               1.0088                    +0.0000j                    1.0088                    0.0000     \n",
       "</tr>\n",
       "<tr>\n",
       "  <th>AR.2</th>               3.2028                    +0.0000j                    3.2028                    0.0000     \n",
       "</tr>\n",
       "</table>"
      ],
      "text/plain": [
       "<class 'statsmodels.iolib.summary.Summary'>\n",
       "\"\"\"\n",
       "                              ARMA Model Results                              \n",
       "==============================================================================\n",
       "Dep. Variable:                      y   No. Observations:                  731\n",
       "Model:                     ARMA(2, 0)   Log Likelihood                 -54.699\n",
       "Method:                       css-mle   S.D. of innovations              0.260\n",
       "Date:                Sun, 30 Apr 2017   AIC                            117.397\n",
       "Time:                        22:21:41   BIC                            135.775\n",
       "Sample:                             0   HQIC                           124.487\n",
       "                                                                              \n",
       "==============================================================================\n",
       "                 coef    std err          z      P>|z|      [95.0% Conf. Int.]\n",
       "------------------------------------------------------------------------------\n",
       "const          5.2881      1.431      3.694      0.000         2.483     8.094\n",
       "ar.L1.y        1.3035      0.035     37.093      0.000         1.235     1.372\n",
       "ar.L2.y       -0.3095      0.035     -8.796      0.000        -0.378    -0.241\n",
       "                                    Roots                                    \n",
       "=============================================================================\n",
       "                 Real           Imaginary           Modulus         Frequency\n",
       "-----------------------------------------------------------------------------\n",
       "AR.1            1.0088           +0.0000j            1.0088            0.0000\n",
       "AR.2            3.2028           +0.0000j            3.2028            0.0000\n",
       "-----------------------------------------------------------------------------\n",
       "\"\"\""
      ]
     },
     "execution_count": 114,
     "metadata": {},
     "output_type": "execute_result"
    }
   ],
   "source": [
    "arma_model = sm.tsa.ARMA(TB.values, order=(2,0))\n",
    "\n",
    "ests = arma_model.fit(maxiter=500, trend='c')\n",
    "ests.summary()"
   ]
  },
  {
   "cell_type": "code",
   "execution_count": null,
   "metadata": {
    "collapsed": true
   },
   "outputs": [],
   "source": []
  },
  {
   "cell_type": "code",
   "execution_count": null,
   "metadata": {
    "collapsed": true
   },
   "outputs": [],
   "source": [
    "\n",
    "def info_matrix(y, theta, e, f=LogLikelihood):\n",
    "    \n",
    "    L = lambda t: f(y, t[0,0], t[0,1], t[0,2])\n",
    "    n = len(theta)\n",
    "    H = np.zeros((n, n))\n",
    "    theta = theta.reshape(1, n)\n",
    "    \n",
    "    for i in range(n):\n",
    "        for j in range(n):\n",
    "            if i==j:\n",
    "                t_p = theta + np.eye(1, n, i) * e\n",
    "                t_m = theta - np.eye(1, n, i) * e\n",
    "                H[i, j] = (L(t_p) + L(t_m) - 2*L(theta)) / (e*e)\n",
    "            else:\n",
    "                t_i = theta + np.eye(1, n, i) * e\n",
    "                t_j = theta + np.eye(1, n, j) * e\n",
    "                t_ij = theta + (np.eye(1, n, i) + np.eye(1, n, j)) * e\n",
    "                H[i, j] = (L(t_ij) - L(t_i) - L(t_j) + L(theta)) / (e*e)\n",
    "    \n",
    "    return -H / len(y)\n",
    "\n",
    "I = info_matrix(y_jc, my_theta, 0.001)\n",
    "print I"
   ]
  }
 ],
 "metadata": {
  "kernelspec": {
   "display_name": "Python [conda root]",
   "language": "python",
   "name": "conda-root-py"
  },
  "language_info": {
   "codemirror_mode": {
    "name": "ipython",
    "version": 2
   },
   "file_extension": ".py",
   "mimetype": "text/x-python",
   "name": "python",
   "nbconvert_exporter": "python",
   "pygments_lexer": "ipython2",
   "version": "2.7.13"
  }
 },
 "nbformat": 4,
 "nbformat_minor": 2
}
