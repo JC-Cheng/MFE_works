{
 "cells": [
  {
   "cell_type": "code",
   "execution_count": 93,
   "metadata": {
    "collapsed": false
   },
   "outputs": [],
   "source": [
    "import pandas as pd\n",
    "import numpy as np\n",
    "import matplotlib.pyplot as plt\n",
    "import statsmodels.api as sm\n",
    "import scipy.optimize as opt\n",
    "from __future__ import division\n",
    "\n",
    "plt.style.use('ggplot')\n",
    "%matplotlib inline"
   ]
  },
  {
   "cell_type": "code",
   "execution_count": 6,
   "metadata": {
    "collapsed": false
   },
   "outputs": [
    {
     "data": {
      "text/html": [
       "<div>\n",
       "<table border=\"1\" class=\"dataframe\">\n",
       "  <thead>\n",
       "    <tr style=\"text-align: right;\">\n",
       "      <th></th>\n",
       "      <th>Rate</th>\n",
       "    </tr>\n",
       "    <tr>\n",
       "      <th>DATE</th>\n",
       "      <th></th>\n",
       "    </tr>\n",
       "  </thead>\n",
       "  <tbody>\n",
       "    <tr>\n",
       "      <th>1953-04-01</th>\n",
       "      <td>2.83</td>\n",
       "    </tr>\n",
       "    <tr>\n",
       "      <th>1953-05-01</th>\n",
       "      <td>3.05</td>\n",
       "    </tr>\n",
       "    <tr>\n",
       "      <th>1953-06-01</th>\n",
       "      <td>3.11</td>\n",
       "    </tr>\n",
       "    <tr>\n",
       "      <th>1953-07-01</th>\n",
       "      <td>2.93</td>\n",
       "    </tr>\n",
       "    <tr>\n",
       "      <th>1953-08-01</th>\n",
       "      <td>2.95</td>\n",
       "    </tr>\n",
       "  </tbody>\n",
       "</table>\n",
       "</div>"
      ],
      "text/plain": [
       "            Rate\n",
       "DATE            \n",
       "1953-04-01  2.83\n",
       "1953-05-01  3.05\n",
       "1953-06-01  3.11\n",
       "1953-07-01  2.93\n",
       "1953-08-01  2.95"
      ]
     },
     "execution_count": 6,
     "metadata": {},
     "output_type": "execute_result"
    }
   ],
   "source": [
    "TB = pd.read_excel('./Tbill10yr.xls',skiprows=14,convert_float=True,names=['Rate'],index_col=0)\n",
    "TB.head()"
   ]
  },
  {
   "cell_type": "code",
   "execution_count": 7,
   "metadata": {
    "collapsed": false
   },
   "outputs": [
    {
     "name": "stdout",
     "output_type": "stream",
     "text": [
      "<class 'pandas.core.frame.DataFrame'>\n",
      "DatetimeIndex: 731 entries, 1953-04-01 to 2014-02-01\n",
      "Data columns (total 1 columns):\n",
      "Rate    731 non-null float64\n",
      "dtypes: float64(1)\n",
      "memory usage: 11.4 KB\n"
     ]
    }
   ],
   "source": [
    "TB.info()"
   ]
  },
  {
   "cell_type": "code",
   "execution_count": 8,
   "metadata": {
    "collapsed": false
   },
   "outputs": [
    {
     "data": {
      "text/plain": [
       "<matplotlib.axes._subplots.AxesSubplot at 0x10db301d0>"
      ]
     },
     "execution_count": 8,
     "metadata": {},
     "output_type": "execute_result"
    },
    {
     "data": {
      "image/png": "[encoded data removed]",
      "text/plain": [
       "<matplotlib.figure.Figure at 0x10d820490>"
      ]
     },
     "metadata": {},
     "output_type": "display_data"
    }
   ],
   "source": [
    "TB.plot()"
   ]
  },
  {
   "cell_type": "markdown",
   "metadata": {},
   "source": [
    "### OLS"
   ]
  },
  {
   "cell_type": "code",
   "execution_count": 62,
   "metadata": {
    "collapsed": false
   },
   "outputs": [],
   "source": [
    "def OLS(Y, X, const=True):\n",
    "    Y = np.array(Y)\n",
    "    X = np.c_[np.ones(np.shape(Y)),np.array(X)] if const else np.array(X)\n",
    "    \n",
    "    cov = np.dot(np.transpose(X),Y)\n",
    "    var = np.dot(np.transpose(X),X)\n",
    "\n",
    "    b = np.dot(np.linalg.inv(var), cov) if np.shape(var) != () else cov / var\n",
    "\n",
    "    return b if b.shape!=(1,1) else float(b)\n",
    "\n",
    "def AR_preprocess(TS, ar_lags=1):\n",
    "    \n",
    "    df = pd.DataFrame({'y': TS})\n",
    "    for i in range(1, ar_lags + 1):\n",
    "        df['x_t' + str(i)] = df.y.shift(i)\n",
    "        \n",
    "    df.dropna(inplace=True)\n",
    "        \n",
    "    return df"
   ]
  },
  {
   "cell_type": "code",
   "execution_count": 99,
   "metadata": {
    "collapsed": false
   },
   "outputs": [],
   "source": [
    "def LogLikelihood(df, c, phi, v):\n",
    "    \n",
    "    v = abs(v)\n",
    "    e = df.y - c - df.iloc[:,1:].dot(np.array(phi))\n",
    "    T = df.shape[0]\n",
    "    \n",
    "    sse = e.T.dot(e)\n",
    "    \n",
    "    return float(-T / 2 * (np.log(2 * np.pi * v)) - sse / (2 * v))"
   ]
  },
  {
   "cell_type": "markdown",
   "metadata": {},
   "source": [
    "### AR(1)"
   ]
  },
  {
   "cell_type": "code",
   "execution_count": 107,
   "metadata": {
    "collapsed": false
   },
   "outputs": [
    {
     "data": {
      "text/plain": [
       "array([ 0.02911663,  0.99520032])"
      ]
     },
     "execution_count": 107,
     "metadata": {},
     "output_type": "execute_result"
    }
   ],
   "source": [
    "df = AR_preprocess(TB.values.ravel(),1)\n",
    "\n",
    "y, X = df.y, df.values[:,1:] #sm.add_constant(df.values[:,1:])\n",
    "beta = OLS(y, X)\n",
    "beta"
   ]
  },
  {
   "cell_type": "code",
   "execution_count": 108,
   "metadata": {
    "collapsed": false
   },
   "outputs": [
    {
     "name": "stdout",
     "output_type": "stream",
     "text": [
      "c: 0.0291\n",
      "phi: 0.9952\n",
      "sigma^2: 0.0747\n"
     ]
    },
    {
     "data": {
      "text/plain": [
       "0.27337530395171644"
      ]
     },
     "execution_count": 108,
     "metadata": {},
     "output_type": "execute_result"
    }
   ],
   "source": [
    "ar1_min_object = lambda p: - LogLikelihood(df, p[0], np.array([p[1]]), p[2])\n",
    "res = opt.minimize(ar1_min_object, [0, 1, 1])\n",
    "\n",
    "my_theta = res.x\n",
    "print 'c: %.4f\\nphi: %.4f\\nsigma^2: %.4f'% tuple(my_theta)\n",
    "my_theta[-1] ** 0.5"
   ]
  },
  {
   "cell_type": "code",
   "execution_count": 113,
   "metadata": {
    "collapsed": false
   },
   "outputs": [
    {
     "data": {
      "text/html": [
       "<table class=\"simpletable\">\n",
       "<caption>ARMA Model Results</caption>\n",
       "<tr>\n",
       "  <th>Dep. Variable:</th>         <td>y</td>        <th>  No. Observations:  </th>   <td>731</td>  \n",
       "</tr>\n",
       "<tr>\n",
       "  <th>Model:</th>            <td>ARMA(1, 0)</td>    <th>  Log Likelihood     </th> <td>-91.453</td>\n",
       "</tr>\n",
       "<tr>\n",
       "  <th>Method:</th>             <td>css-mle</td>     <th>  S.D. of innovations</th>  <td>0.273</td> \n",
       "</tr>\n",
       "<tr>\n",
       "  <th>Date:</th>          <td>Sun, 30 Apr 2017</td> <th>  AIC                </th> <td>188.906</td>\n",
       "</tr>\n",
       "<tr>\n",
       "  <th>Time:</th>              <td>22:21:34</td>     <th>  BIC                </th> <td>202.689</td>\n",
       "</tr>\n",
       "<tr>\n",
       "  <th>Sample:</th>                <td>0</td>        <th>  HQIC               </th> <td>194.224</td>\n",
       "</tr>\n",
       "<tr>\n",
       "  <th></th>                       <td> </td>        <th>                     </th>    <td> </td>   \n",
       "</tr>\n",
       "</table>\n",
       "<table class=\"simpletable\">\n",
       "<tr>\n",
       "     <td></td>        <th>coef</th>     <th>std err</th>      <th>z</th>      <th>P>|z|</th> <th>[95.0% Conf. Int.]</th> \n",
       "</tr>\n",
       "<tr>\n",
       "  <th>const</th>   <td>    4.8613</td> <td>    1.815</td> <td>    2.678</td> <td> 0.008</td> <td>    1.303     8.419</td>\n",
       "</tr>\n",
       "<tr>\n",
       "  <th>ar.L1.y</th> <td>    0.9954</td> <td>    0.003</td> <td>  321.138</td> <td> 0.000</td> <td>    0.989     1.001</td>\n",
       "</tr>\n",
       "</table>\n",
       "<table class=\"simpletable\">\n",
       "<caption>Roots</caption>\n",
       "<tr>\n",
       "    <td></td>   <th>           Real</th> <th>         Imaginary</th> <th>         Modulus</th> <th>        Frequency</th>\n",
       "</tr>\n",
       "<tr>\n",
       "  <th>AR.1</th>               1.0046                    +0.0000j                    1.0046                    0.0000     \n",
       "</tr>\n",
       "</table>"
      ],
      "text/plain": [
       "<class 'statsmodels.iolib.summary.Summary'>\n",
       "\"\"\"\n",
       "                              ARMA Model Results                              \n",
       "==============================================================================\n",
       "Dep. Variable:                      y   No. Observations:                  731\n",
       "Model:                     ARMA(1, 0)   Log Likelihood                 -91.453\n",
       "Method:                       css-mle   S.D. of innovations              0.273\n",
       "Date:                Sun, 30 Apr 2017   AIC                            188.906\n",
       "Time:                        22:21:34   BIC                            202.689\n",
       "Sample:                             0   HQIC                           194.224\n",
       "                                                                              \n",
       "==============================================================================\n",
       "                 coef    std err          z      P>|z|      [95.0% Conf. Int.]\n",
       "------------------------------------------------------------------------------\n",
       "const          4.8613      1.815      2.678      0.008         1.303     8.419\n",
       "ar.L1.y        0.9954      0.003    321.138      0.000         0.989     1.001\n",
       "                                    Roots                                    \n",
       "=============================================================================\n",
       "                 Real           Imaginary           Modulus         Frequency\n",
       "-----------------------------------------------------------------------------\n",
       "AR.1            1.0046           +0.0000j            1.0046            0.0000\n",
       "-----------------------------------------------------------------------------\n",
       "\"\"\""
      ]
     },
     "execution_count": 113,
     "metadata": {},
     "output_type": "execute_result"
    }
   ],
   "source": [
    "arma_model = sm.tsa.ARMA(TB.values, order=(1,0))\n",
    "\n",
    "ests = arma_model.fit(maxiter=500, trend='c')\n",
    "ests.summary()"
   ]
  },
  {
   "cell_type": "markdown",
   "metadata": {},
   "source": [
    "### AR(2)"
   ]
  },
  {
   "cell_type": "code",
   "execution_count": 110,
   "metadata": {
    "collapsed": false
   },
   "outputs": [
    {
     "data": {
      "text/plain": [
       "array([ 0.03729302,  1.30381248, -0.30999947])"
      ]
     },
     "execution_count": 110,
     "metadata": {},
     "output_type": "execute_result"
    }
   ],
   "source": [
    "df = AR_preprocess(TB.values.ravel(), 2)\n",
    "\n",
    "y, X = df.y, df.values[:,1:] #sm.add_constant(df.values[:,1:])\n",
    "beta = OLS(y, X)\n",
    "beta"
   ]
  },
  {
   "cell_type": "code",
   "execution_count": 111,
   "metadata": {
    "collapsed": false
   },
   "outputs": [
    {
     "name": "stdout",
     "output_type": "stream",
     "text": [
      "c: 0.0373\n",
      "phi_1: 1.3038\n",
      "phi_2: -0.3100\n",
      "sigma^2: 0.0676\n"
     ]
    },
    {
     "data": {
      "text/plain": [
       "0.25998197516366006"
      ]
     },
     "execution_count": 111,
     "metadata": {},
     "output_type": "execute_result"
    }
   ],
   "source": [
    "ar2_min_object = lambda p: - LogLikelihood(df, p[0], np.array([p[1], p[2]]), p[3])\n",
    "res = opt.minimize(ar2_min_object, [0, 1, 1, 1])\n",
    "my_theta = res.x\n",
    "print 'c: %.4f\\nphi_1: %.4f\\nphi_2: %.4f\\nsigma^2: %.4f'% tuple(my_theta)\n",
    "my_theta[-1] ** 0.5"
   ]
  },
  {
   "cell_type": "code",
   "execution_count": 114,
   "metadata": {
    "collapsed": false
   },
   "outputs": [
    {
     "data": {
      "text/html": [
       "<table class=\"simpletable\">\n",
       "<caption>ARMA Model Results</caption>\n",
       "<tr>\n",
       "  <th>Dep. Variable:</th>         <td>y</td>        <th>  No. Observations:  </th>   <td>731</td>  \n",
       "</tr>\n",
       "<tr>\n",
       "  <th>Model:</th>            <td>ARMA(2, 0)</td>    <th>  Log Likelihood     </th> <td>-54.699</td>\n",
       "</tr>\n",
       "<tr>\n",
       "  <th>Method:</th>             <td>css-mle</td>     <th>  S.D. of innovations</th>  <td>0.260</td> \n",
       "</tr>\n",
       "<tr>\n",
       "  <th>Date:</th>          <td>Sun, 30 Apr 2017</td> <th>  AIC                </th> <td>117.397</td>\n",
       "</tr>\n",
       "<tr>\n",
       "  <th>Time:</th>              <td>22:21:41</td>     <th>  BIC                </th> <td>135.775</td>\n",
       "</tr>\n",
       "<tr>\n",
       "  <th>Sample:</th>                <td>0</td>        <th>  HQIC               </th> <td>124.487</td>\n",
       "</tr>\n",
       "<tr>\n",
       "  <th></th>                       <td> </td>        <th>                     </th>    <td> </td>   \n",
       "</tr>\n",
       "</table>\n",
       "<table class=\"simpletable\">\n",
       "<tr>\n",
       "     <td></td>        <th>coef</th>     <th>std err</th>      <th>z</th>      <th>P>|z|</th> <th>[95.0% Conf. Int.]</th> \n",
       "</tr>\n",
       "<tr>\n",
       "  <th>const</th>   <td>    5.2881</td> <td>    1.431</td> <td>    3.694</td> <td> 0.000</td> <td>    2.483     8.094</td>\n",
       "</tr>\n",
       "<tr>\n",
       "  <th>ar.L1.y</th> <td>    1.3035</td> <td>    0.035</td> <td>   37.093</td> <td> 0.000</td> <td>    1.235     1.372</td>\n",
       "</tr>\n",
       "<tr>\n",
       "  <th>ar.L2.y</th> <td>   -0.3095</td> <td>    0.035</td> <td>   -8.796</td> <td> 0.000</td> <td>   -0.378    -0.241</td>\n",
       "</tr>\n",
       "</table>\n",
       "<table class=\"simpletable\">\n",
       "<caption>Roots</caption>\n",
       "<tr>\n",
       "    <td></td>   <th>           Real</th> <th>         Imaginary</th> <th>         Modulus</th> <th>        Frequency</th>\n",
       "</tr>\n",
       "<tr>\n",
       "  <th>AR.1</th>               1.0088                    +0.0000j                    1.0088                    0.0000     \n",
       "</tr>\n",
       "<tr>\n",
       "  <th>AR.2</th>               3.2028                    +0.0000j                    3.2028                    0.0000     \n",
       "</tr>\n",
       "</table>"
      ],
      "text/plain": [
       "<class 'statsmodels.iolib.summary.Summary'>\n",
       "\"\"\"\n",
       "                              ARMA Model Results                              \n",
       "==============================================================================\n",
       "Dep. Variable:                      y   No. Observations:                  731\n",
       "Model:                     ARMA(2, 0)   Log Likelihood                 -54.699\n",
       "Method:                       css-mle   S.D. of innovations              0.260\n",
       "Date:                Sun, 30 Apr 2017   AIC                            117.397\n",
       "Time:                        22:21:41   BIC                            135.775\n",
       "Sample:                             0   HQIC                           124.487\n",
       "                                                                              \n",
       "==============================================================================\n",
       "                 coef    std err          z      P>|z|      [95.0% Conf. Int.]\n",
       "------------------------------------------------------------------------------\n",
       "const          5.2881      1.431      3.694      0.000         2.483     8.094\n",
       "ar.L1.y        1.3035      0.035     37.093      0.000         1.235     1.372\n",
       "ar.L2.y       -0.3095      0.035     -8.796      0.000        -0.378    -0.241\n",
       "                                    Roots                                    \n",
       "=============================================================================\n",
       "                 Real           Imaginary           Modulus         Frequency\n",
       "-----------------------------------------------------------------------------\n",
       "AR.1            1.0088           +0.0000j            1.0088            0.0000\n",
       "AR.2            3.2028           +0.0000j            3.2028            0.0000\n",
       "-----------------------------------------------------------------------------\n",
       "\"\"\""
      ]
     },
     "execution_count": 114,
     "metadata": {},
     "output_type": "execute_result"
    }
   ],
   "source": [
    "arma_model = sm.tsa.ARMA(TB.values, order=(2,0))\n",
    "\n",
    "ests = arma_model.fit(maxiter=500, trend='c')\n",
    "ests.summary()"
   ]
  },
  {
   "cell_type": "code",
   "execution_count": 54,
   "metadata": {
    "collapsed": false
   },
   "outputs": [],
   "source": [
    "def homo_se_beta(y, X, beta, const=True):\n",
    "    \n",
    "    X = np.c_[np.ones(len(y)),X] if const else X\n",
    "    e = y - X.dot(beta)\n",
    "    \n",
    "    mse = (e.T.dot(e)/len(e))[0]\n",
    "    V = np.linalg.inv(X.T.dot(X))\n",
    "\n",
    "    return np.sqrt(V.diagonal() * mse)"
   ]
  },
  {
   "cell_type": "code",
   "execution_count": 14,
   "metadata": {
    "collapsed": true
   },
   "outputs": [],
   "source": [
    "def heter_se_beta(y, X, beta, const=True):\n",
    "    \n",
    "    X = np.c_[np.ones(len(y)),X] if const else X\n",
    "    e = y - X.dot(beta)\n",
    "    \n",
    "    V = np.linalg.inv(X.T.dot(X))\n",
    "    \n",
    "    out_product = lambda i: np.array(map(lambda ele: ele * i, i))\n",
    "    U = reduce(lambda a, b: a + b, [out_product(i)*(j*j) for i,j in zip(X,e)])\n",
    "    \n",
    "    return np.sqrt(np.dot(V.dot(U), V).diagonal())"
   ]
  },
  {
   "cell_type": "code",
   "execution_count": 15,
   "metadata": {
    "collapsed": true
   },
   "outputs": [],
   "source": [
    "def R_squares(y, X, beta, const=True):\n",
    "    \n",
    "    X = np.c_[np.ones(len(y)),X] if const else X\n",
    "    e = y - X.dot(beta)\n",
    "    n = len(y)\n",
    "\n",
    "    sse = (e.T.dot(e))\n",
    "    sst = (y.T.dot(y)) - n * np.mean(y) **2\n",
    "    \n",
    "    return {'R_square': (1 - sse/sst), 'Adj_R_square': (1 - (sse/sst)*(n - 1)/(n-len(beta)-1))}"
   ]
  },
  {
   "cell_type": "code",
   "execution_count": 16,
   "metadata": {
    "collapsed": true
   },
   "outputs": [],
   "source": [
    "def sd_e(y, X, beta, const=True):\n",
    "    \n",
    "    X = np.c_[np.ones(len(y)),X] if const else X\n",
    "    e = y - X.dot(beta)\n",
    "    n = len(y)\n",
    "    \n",
    "    return np.sqrt((e.T.dot(e) - n * np.mean(e) ** 2)/(n - 1))"
   ]
  },
  {
   "cell_type": "code",
   "execution_count": 17,
   "metadata": {
    "collapsed": true
   },
   "outputs": [],
   "source": [
    "def Likelihood(y, X, beta, const=True):\n",
    "    X = np.c_[np.ones(len(y)),X] if const else X\n",
    "    e = y - X.dot(beta)\n",
    "    n = len(y)\n",
    "    \n",
    "    sse = e.T.dot(e) / n\n",
    "    \n",
    "    return float(-n * 0.5 * (np.log(2 * np.pi) + 1 + np.log(sse)))\n",
    "\n",
    "def AIC(y, X, beta, const=True):\n",
    "    L = Likelihood(y, X, beta, const=True)\n",
    "    n = len(y)\n",
    "    k = X.shape[1] + (1 if const else 0)\n",
    "    aic = 2*(-L+k)\n",
    "    \n",
    "    return aic, aic/n\n",
    "\n",
    "def BIC(y, X, beta, const=True):\n",
    "    L = Likelihood(y, X, beta, const=True)\n",
    "    n = len(y)\n",
    "    k = X.shape[1] + (1 if const else 0)\n",
    "    print k, n\n",
    "    bic = (k*np.log(n)-2*L)\n",
    "    \n",
    "    return bic, bic/n"
   ]
  },
  {
   "cell_type": "markdown",
   "metadata": {},
   "source": [
    "### AR(1)\n",
    "\n",
    "statsmodels"
   ]
  },
  {
   "cell_type": "code",
   "execution_count": 18,
   "metadata": {
    "collapsed": false
   },
   "outputs": [
    {
     "data": {
      "text/html": [
       "<table class=\"simpletable\">\n",
       "<caption>OLS Regression Results</caption>\n",
       "<tr>\n",
       "  <th>Dep. Variable:</th>            <td>y</td>        <th>  R-squared:         </th> <td>   0.991</td> \n",
       "</tr>\n",
       "<tr>\n",
       "  <th>Model:</th>                   <td>OLS</td>       <th>  Adj. R-squared:    </th> <td>   0.991</td> \n",
       "</tr>\n",
       "<tr>\n",
       "  <th>Method:</th>             <td>Least Squares</td>  <th>  F-statistic:       </th> <td>4.093e+04</td>\n",
       "</tr>\n",
       "<tr>\n",
       "  <th>Date:</th>             <td>Sat, 22 Apr 2017</td> <th>  Prob (F-statistic):</th>  <td>  0.00</td>  \n",
       "</tr>\n",
       "<tr>\n",
       "  <th>Time:</th>                 <td>01:00:28</td>     <th>  Log-Likelihood:    </th> <td> -52.339</td> \n",
       "</tr>\n",
       "<tr>\n",
       "  <th>No. Observations:</th>      <td>   729</td>      <th>  AIC:               </th> <td>   110.7</td> \n",
       "</tr>\n",
       "<tr>\n",
       "  <th>Df Residuals:</th>          <td>   726</td>      <th>  BIC:               </th> <td>   124.5</td> \n",
       "</tr>\n",
       "<tr>\n",
       "  <th>Df Model:</th>              <td>     2</td>      <th>                     </th>     <td> </td>    \n",
       "</tr>\n",
       "<tr>\n",
       "  <th>Covariance Type:</th>      <td>nonrobust</td>    <th>                     </th>     <td> </td>    \n",
       "</tr>\n",
       "</table>\n",
       "<table class=\"simpletable\">\n",
       "<tr>\n",
       "    <td></td>       <th>coef</th>     <th>std err</th>      <th>t</th>      <th>P>|t|</th> <th>[95.0% Conf. Int.]</th> \n",
       "</tr>\n",
       "<tr>\n",
       "  <th>const</th> <td>    0.0373</td> <td>    0.023</td> <td>    1.596</td> <td> 0.111</td> <td>   -0.009     0.083</td>\n",
       "</tr>\n",
       "<tr>\n",
       "  <th>x1</th>    <td>    1.3038</td> <td>    0.035</td> <td>   36.956</td> <td> 0.000</td> <td>    1.235     1.373</td>\n",
       "</tr>\n",
       "<tr>\n",
       "  <th>x2</th>    <td>   -0.3100</td> <td>    0.035</td> <td>   -8.787</td> <td> 0.000</td> <td>   -0.379    -0.241</td>\n",
       "</tr>\n",
       "</table>\n",
       "<table class=\"simpletable\">\n",
       "<tr>\n",
       "  <th>Omnibus:</th>       <td>103.906</td> <th>  Durbin-Watson:     </th> <td>   1.866</td> \n",
       "</tr>\n",
       "<tr>\n",
       "  <th>Prob(Omnibus):</th> <td> 0.000</td>  <th>  Jarque-Bera (JB):  </th> <td>1131.532</td> \n",
       "</tr>\n",
       "<tr>\n",
       "  <th>Skew:</th>          <td>-0.134</td>  <th>  Prob(JB):          </th> <td>1.95e-246</td>\n",
       "</tr>\n",
       "<tr>\n",
       "  <th>Kurtosis:</th>      <td> 9.098</td>  <th>  Cond. No.          </th> <td>    49.2</td> \n",
       "</tr>\n",
       "</table>"
      ],
      "text/plain": [
       "<class 'statsmodels.iolib.summary.Summary'>\n",
       "\"\"\"\n",
       "                            OLS Regression Results                            \n",
       "==============================================================================\n",
       "Dep. Variable:                      y   R-squared:                       0.991\n",
       "Model:                            OLS   Adj. R-squared:                  0.991\n",
       "Method:                 Least Squares   F-statistic:                 4.093e+04\n",
       "Date:                Sat, 22 Apr 2017   Prob (F-statistic):               0.00\n",
       "Time:                        01:00:28   Log-Likelihood:                -52.339\n",
       "No. Observations:                 729   AIC:                             110.7\n",
       "Df Residuals:                     726   BIC:                             124.5\n",
       "Df Model:                           2                                         \n",
       "Covariance Type:            nonrobust                                         \n",
       "==============================================================================\n",
       "                 coef    std err          t      P>|t|      [95.0% Conf. Int.]\n",
       "------------------------------------------------------------------------------\n",
       "const          0.0373      0.023      1.596      0.111        -0.009     0.083\n",
       "x1             1.3038      0.035     36.956      0.000         1.235     1.373\n",
       "x2            -0.3100      0.035     -8.787      0.000        -0.379    -0.241\n",
       "==============================================================================\n",
       "Omnibus:                      103.906   Durbin-Watson:                   1.866\n",
       "Prob(Omnibus):                  0.000   Jarque-Bera (JB):             1131.532\n",
       "Skew:                          -0.134   Prob(JB):                    1.95e-246\n",
       "Kurtosis:                       9.098   Cond. No.                         49.2\n",
       "==============================================================================\n",
       "\n",
       "Warnings:\n",
       "[1] Standard Errors assume that the covariance matrix of the errors is correctly specified.\n",
       "\"\"\""
      ]
     },
     "execution_count": 18,
     "metadata": {},
     "output_type": "execute_result"
    }
   ],
   "source": [
    "model = sm.OLS(y, sm.add_constant(X))\n",
    "results = model.fit()\n",
    "results.summary()"
   ]
  },
  {
   "cell_type": "code",
   "execution_count": 19,
   "metadata": {
    "collapsed": false
   },
   "outputs": [
    {
     "data": {
      "text/html": [
       "<table class=\"simpletable\">\n",
       "<caption>OLS Regression Results</caption>\n",
       "<tr>\n",
       "  <th>Dep. Variable:</th>            <td>y</td>        <th>  R-squared:         </th> <td>   0.991</td> \n",
       "</tr>\n",
       "<tr>\n",
       "  <th>Model:</th>                   <td>OLS</td>       <th>  Adj. R-squared:    </th> <td>   0.991</td> \n",
       "</tr>\n",
       "<tr>\n",
       "  <th>Method:</th>             <td>Least Squares</td>  <th>  F-statistic:       </th> <td>1.521e+04</td>\n",
       "</tr>\n",
       "<tr>\n",
       "  <th>Date:</th>             <td>Sat, 22 Apr 2017</td> <th>  Prob (F-statistic):</th>  <td>  0.00</td>  \n",
       "</tr>\n",
       "<tr>\n",
       "  <th>Time:</th>                 <td>01:00:28</td>     <th>  Log-Likelihood:    </th> <td> -52.339</td> \n",
       "</tr>\n",
       "<tr>\n",
       "  <th>No. Observations:</th>      <td>   729</td>      <th>  AIC:               </th> <td>   110.7</td> \n",
       "</tr>\n",
       "<tr>\n",
       "  <th>Df Residuals:</th>          <td>   726</td>      <th>  BIC:               </th> <td>   124.5</td> \n",
       "</tr>\n",
       "<tr>\n",
       "  <th>Df Model:</th>              <td>     2</td>      <th>                     </th>     <td> </td>    \n",
       "</tr>\n",
       "<tr>\n",
       "  <th>Covariance Type:</th>         <td>HC0</td>       <th>                     </th>     <td> </td>    \n",
       "</tr>\n",
       "</table>\n",
       "<table class=\"simpletable\">\n",
       "<tr>\n",
       "    <td></td>       <th>coef</th>     <th>std err</th>      <th>z</th>      <th>P>|z|</th> <th>[95.0% Conf. Int.]</th> \n",
       "</tr>\n",
       "<tr>\n",
       "  <th>const</th> <td>    0.0373</td> <td>    0.031</td> <td>    1.188</td> <td> 0.235</td> <td>   -0.024     0.099</td>\n",
       "</tr>\n",
       "<tr>\n",
       "  <th>x1</th>    <td>    1.3038</td> <td>    0.055</td> <td>   23.655</td> <td> 0.000</td> <td>    1.196     1.412</td>\n",
       "</tr>\n",
       "<tr>\n",
       "  <th>x2</th>    <td>   -0.3100</td> <td>    0.056</td> <td>   -5.505</td> <td> 0.000</td> <td>   -0.420    -0.200</td>\n",
       "</tr>\n",
       "</table>\n",
       "<table class=\"simpletable\">\n",
       "<tr>\n",
       "  <th>Omnibus:</th>       <td>103.906</td> <th>  Durbin-Watson:     </th> <td>   1.866</td> \n",
       "</tr>\n",
       "<tr>\n",
       "  <th>Prob(Omnibus):</th> <td> 0.000</td>  <th>  Jarque-Bera (JB):  </th> <td>1131.532</td> \n",
       "</tr>\n",
       "<tr>\n",
       "  <th>Skew:</th>          <td>-0.134</td>  <th>  Prob(JB):          </th> <td>1.95e-246</td>\n",
       "</tr>\n",
       "<tr>\n",
       "  <th>Kurtosis:</th>      <td> 9.098</td>  <th>  Cond. No.          </th> <td>    49.2</td> \n",
       "</tr>\n",
       "</table>"
      ],
      "text/plain": [
       "<class 'statsmodels.iolib.summary.Summary'>\n",
       "\"\"\"\n",
       "                            OLS Regression Results                            \n",
       "==============================================================================\n",
       "Dep. Variable:                      y   R-squared:                       0.991\n",
       "Model:                            OLS   Adj. R-squared:                  0.991\n",
       "Method:                 Least Squares   F-statistic:                 1.521e+04\n",
       "Date:                Sat, 22 Apr 2017   Prob (F-statistic):               0.00\n",
       "Time:                        01:00:28   Log-Likelihood:                -52.339\n",
       "No. Observations:                 729   AIC:                             110.7\n",
       "Df Residuals:                     726   BIC:                             124.5\n",
       "Df Model:                           2                                         \n",
       "Covariance Type:                  HC0                                         \n",
       "==============================================================================\n",
       "                 coef    std err          z      P>|z|      [95.0% Conf. Int.]\n",
       "------------------------------------------------------------------------------\n",
       "const          0.0373      0.031      1.188      0.235        -0.024     0.099\n",
       "x1             1.3038      0.055     23.655      0.000         1.196     1.412\n",
       "x2            -0.3100      0.056     -5.505      0.000        -0.420    -0.200\n",
       "==============================================================================\n",
       "Omnibus:                      103.906   Durbin-Watson:                   1.866\n",
       "Prob(Omnibus):                  0.000   Jarque-Bera (JB):             1131.532\n",
       "Skew:                          -0.134   Prob(JB):                    1.95e-246\n",
       "Kurtosis:                       9.098   Cond. No.                         49.2\n",
       "==============================================================================\n",
       "\n",
       "Warnings:\n",
       "[1] Standard Errors are heteroscedasticity robust (HC0)\n",
       "\"\"\""
      ]
     },
     "execution_count": 19,
     "metadata": {},
     "output_type": "execute_result"
    }
   ],
   "source": [
    "model = sm.OLS(y, sm.add_constant(X))\n",
    "results = model.fit(cov_type='HC0')\n",
    "results.summary()"
   ]
  },
  {
   "cell_type": "markdown",
   "metadata": {},
   "source": [
    "### AR(2)\n",
    "\n",
    "self-implementation"
   ]
  },
  {
   "cell_type": "markdown",
   "metadata": {},
   "source": [
    "### AR(2)\n",
    "\n",
    "statsmodels"
   ]
  },
  {
   "cell_type": "code",
   "execution_count": 20,
   "metadata": {
    "collapsed": false
   },
   "outputs": [
    {
     "data": {
      "text/html": [
       "<table class=\"simpletable\">\n",
       "<caption>OLS Regression Results</caption>\n",
       "<tr>\n",
       "  <th>Dep. Variable:</th>            <td>y</td>        <th>  R-squared:         </th> <td>   0.991</td> \n",
       "</tr>\n",
       "<tr>\n",
       "  <th>Model:</th>                   <td>OLS</td>       <th>  Adj. R-squared:    </th> <td>   0.991</td> \n",
       "</tr>\n",
       "<tr>\n",
       "  <th>Method:</th>             <td>Least Squares</td>  <th>  F-statistic:       </th> <td>4.093e+04</td>\n",
       "</tr>\n",
       "<tr>\n",
       "  <th>Date:</th>             <td>Sat, 22 Apr 2017</td> <th>  Prob (F-statistic):</th>  <td>  0.00</td>  \n",
       "</tr>\n",
       "<tr>\n",
       "  <th>Time:</th>                 <td>01:00:28</td>     <th>  Log-Likelihood:    </th> <td> -52.339</td> \n",
       "</tr>\n",
       "<tr>\n",
       "  <th>No. Observations:</th>      <td>   729</td>      <th>  AIC:               </th> <td>   110.7</td> \n",
       "</tr>\n",
       "<tr>\n",
       "  <th>Df Residuals:</th>          <td>   726</td>      <th>  BIC:               </th> <td>   124.5</td> \n",
       "</tr>\n",
       "<tr>\n",
       "  <th>Df Model:</th>              <td>     2</td>      <th>                     </th>     <td> </td>    \n",
       "</tr>\n",
       "<tr>\n",
       "  <th>Covariance Type:</th>      <td>nonrobust</td>    <th>                     </th>     <td> </td>    \n",
       "</tr>\n",
       "</table>\n",
       "<table class=\"simpletable\">\n",
       "<tr>\n",
       "    <td></td>       <th>coef</th>     <th>std err</th>      <th>t</th>      <th>P>|t|</th> <th>[95.0% Conf. Int.]</th> \n",
       "</tr>\n",
       "<tr>\n",
       "  <th>const</th> <td>    0.0373</td> <td>    0.023</td> <td>    1.596</td> <td> 0.111</td> <td>   -0.009     0.083</td>\n",
       "</tr>\n",
       "<tr>\n",
       "  <th>x1</th>    <td>    1.3038</td> <td>    0.035</td> <td>   36.956</td> <td> 0.000</td> <td>    1.235     1.373</td>\n",
       "</tr>\n",
       "<tr>\n",
       "  <th>x2</th>    <td>   -0.3100</td> <td>    0.035</td> <td>   -8.787</td> <td> 0.000</td> <td>   -0.379    -0.241</td>\n",
       "</tr>\n",
       "</table>\n",
       "<table class=\"simpletable\">\n",
       "<tr>\n",
       "  <th>Omnibus:</th>       <td>103.906</td> <th>  Durbin-Watson:     </th> <td>   1.866</td> \n",
       "</tr>\n",
       "<tr>\n",
       "  <th>Prob(Omnibus):</th> <td> 0.000</td>  <th>  Jarque-Bera (JB):  </th> <td>1131.532</td> \n",
       "</tr>\n",
       "<tr>\n",
       "  <th>Skew:</th>          <td>-0.134</td>  <th>  Prob(JB):          </th> <td>1.95e-246</td>\n",
       "</tr>\n",
       "<tr>\n",
       "  <th>Kurtosis:</th>      <td> 9.098</td>  <th>  Cond. No.          </th> <td>    49.2</td> \n",
       "</tr>\n",
       "</table>"
      ],
      "text/plain": [
       "<class 'statsmodels.iolib.summary.Summary'>\n",
       "\"\"\"\n",
       "                            OLS Regression Results                            \n",
       "==============================================================================\n",
       "Dep. Variable:                      y   R-squared:                       0.991\n",
       "Model:                            OLS   Adj. R-squared:                  0.991\n",
       "Method:                 Least Squares   F-statistic:                 4.093e+04\n",
       "Date:                Sat, 22 Apr 2017   Prob (F-statistic):               0.00\n",
       "Time:                        01:00:28   Log-Likelihood:                -52.339\n",
       "No. Observations:                 729   AIC:                             110.7\n",
       "Df Residuals:                     726   BIC:                             124.5\n",
       "Df Model:                           2                                         \n",
       "Covariance Type:            nonrobust                                         \n",
       "==============================================================================\n",
       "                 coef    std err          t      P>|t|      [95.0% Conf. Int.]\n",
       "------------------------------------------------------------------------------\n",
       "const          0.0373      0.023      1.596      0.111        -0.009     0.083\n",
       "x1             1.3038      0.035     36.956      0.000         1.235     1.373\n",
       "x2            -0.3100      0.035     -8.787      0.000        -0.379    -0.241\n",
       "==============================================================================\n",
       "Omnibus:                      103.906   Durbin-Watson:                   1.866\n",
       "Prob(Omnibus):                  0.000   Jarque-Bera (JB):             1131.532\n",
       "Skew:                          -0.134   Prob(JB):                    1.95e-246\n",
       "Kurtosis:                       9.098   Cond. No.                         49.2\n",
       "==============================================================================\n",
       "\n",
       "Warnings:\n",
       "[1] Standard Errors assume that the covariance matrix of the errors is correctly specified.\n",
       "\"\"\""
      ]
     },
     "execution_count": 20,
     "metadata": {},
     "output_type": "execute_result"
    }
   ],
   "source": [
    "model = sm.OLS(y, sm.add_constant(X))\n",
    "results = model.fit()\n",
    "results.summary()"
   ]
  },
  {
   "cell_type": "code",
   "execution_count": 21,
   "metadata": {
    "collapsed": false
   },
   "outputs": [
    {
     "data": {
      "text/html": [
       "<table class=\"simpletable\">\n",
       "<caption>OLS Regression Results</caption>\n",
       "<tr>\n",
       "  <th>Dep. Variable:</th>            <td>y</td>        <th>  R-squared:         </th> <td>   0.991</td> \n",
       "</tr>\n",
       "<tr>\n",
       "  <th>Model:</th>                   <td>OLS</td>       <th>  Adj. R-squared:    </th> <td>   0.991</td> \n",
       "</tr>\n",
       "<tr>\n",
       "  <th>Method:</th>             <td>Least Squares</td>  <th>  F-statistic:       </th> <td>1.521e+04</td>\n",
       "</tr>\n",
       "<tr>\n",
       "  <th>Date:</th>             <td>Sat, 22 Apr 2017</td> <th>  Prob (F-statistic):</th>  <td>  0.00</td>  \n",
       "</tr>\n",
       "<tr>\n",
       "  <th>Time:</th>                 <td>01:00:28</td>     <th>  Log-Likelihood:    </th> <td> -52.339</td> \n",
       "</tr>\n",
       "<tr>\n",
       "  <th>No. Observations:</th>      <td>   729</td>      <th>  AIC:               </th> <td>   110.7</td> \n",
       "</tr>\n",
       "<tr>\n",
       "  <th>Df Residuals:</th>          <td>   726</td>      <th>  BIC:               </th> <td>   124.5</td> \n",
       "</tr>\n",
       "<tr>\n",
       "  <th>Df Model:</th>              <td>     2</td>      <th>                     </th>     <td> </td>    \n",
       "</tr>\n",
       "<tr>\n",
       "  <th>Covariance Type:</th>         <td>HC0</td>       <th>                     </th>     <td> </td>    \n",
       "</tr>\n",
       "</table>\n",
       "<table class=\"simpletable\">\n",
       "<tr>\n",
       "    <td></td>       <th>coef</th>     <th>std err</th>      <th>z</th>      <th>P>|z|</th> <th>[95.0% Conf. Int.]</th> \n",
       "</tr>\n",
       "<tr>\n",
       "  <th>const</th> <td>    0.0373</td> <td>    0.031</td> <td>    1.188</td> <td> 0.235</td> <td>   -0.024     0.099</td>\n",
       "</tr>\n",
       "<tr>\n",
       "  <th>x1</th>    <td>    1.3038</td> <td>    0.055</td> <td>   23.655</td> <td> 0.000</td> <td>    1.196     1.412</td>\n",
       "</tr>\n",
       "<tr>\n",
       "  <th>x2</th>    <td>   -0.3100</td> <td>    0.056</td> <td>   -5.505</td> <td> 0.000</td> <td>   -0.420    -0.200</td>\n",
       "</tr>\n",
       "</table>\n",
       "<table class=\"simpletable\">\n",
       "<tr>\n",
       "  <th>Omnibus:</th>       <td>103.906</td> <th>  Durbin-Watson:     </th> <td>   1.866</td> \n",
       "</tr>\n",
       "<tr>\n",
       "  <th>Prob(Omnibus):</th> <td> 0.000</td>  <th>  Jarque-Bera (JB):  </th> <td>1131.532</td> \n",
       "</tr>\n",
       "<tr>\n",
       "  <th>Skew:</th>          <td>-0.134</td>  <th>  Prob(JB):          </th> <td>1.95e-246</td>\n",
       "</tr>\n",
       "<tr>\n",
       "  <th>Kurtosis:</th>      <td> 9.098</td>  <th>  Cond. No.          </th> <td>    49.2</td> \n",
       "</tr>\n",
       "</table>"
      ],
      "text/plain": [
       "<class 'statsmodels.iolib.summary.Summary'>\n",
       "\"\"\"\n",
       "                            OLS Regression Results                            \n",
       "==============================================================================\n",
       "Dep. Variable:                      y   R-squared:                       0.991\n",
       "Model:                            OLS   Adj. R-squared:                  0.991\n",
       "Method:                 Least Squares   F-statistic:                 1.521e+04\n",
       "Date:                Sat, 22 Apr 2017   Prob (F-statistic):               0.00\n",
       "Time:                        01:00:28   Log-Likelihood:                -52.339\n",
       "No. Observations:                 729   AIC:                             110.7\n",
       "Df Residuals:                     726   BIC:                             124.5\n",
       "Df Model:                           2                                         \n",
       "Covariance Type:                  HC0                                         \n",
       "==============================================================================\n",
       "                 coef    std err          z      P>|z|      [95.0% Conf. Int.]\n",
       "------------------------------------------------------------------------------\n",
       "const          0.0373      0.031      1.188      0.235        -0.024     0.099\n",
       "x1             1.3038      0.055     23.655      0.000         1.196     1.412\n",
       "x2            -0.3100      0.056     -5.505      0.000        -0.420    -0.200\n",
       "==============================================================================\n",
       "Omnibus:                      103.906   Durbin-Watson:                   1.866\n",
       "Prob(Omnibus):                  0.000   Jarque-Bera (JB):             1131.532\n",
       "Skew:                          -0.134   Prob(JB):                    1.95e-246\n",
       "Kurtosis:                       9.098   Cond. No.                         49.2\n",
       "==============================================================================\n",
       "\n",
       "Warnings:\n",
       "[1] Standard Errors are heteroscedasticity robust (HC0)\n",
       "\"\"\""
      ]
     },
     "execution_count": 21,
     "metadata": {},
     "output_type": "execute_result"
    }
   ],
   "source": [
    "model = sm.OLS(y, sm.add_constant(X))\n",
    "results = model.fit(cov_type='HC0')\n",
    "results.summary()"
   ]
  },
  {
   "cell_type": "markdown",
   "metadata": {
    "collapsed": true
   },
   "source": [
    "## Q5"
   ]
  },
  {
   "cell_type": "code",
   "execution_count": 22,
   "metadata": {
    "collapsed": true
   },
   "outputs": [],
   "source": [
    "def AR_1(wn, theta):\n",
    "    \n",
    "    if len(np.shape(wn)) == 1:\n",
    "        \n",
    "        n = len(wn)\n",
    "        x = np.zeros(n + 1)\n",
    "        \n",
    "        for i in range(n):\n",
    "            x[i + 1] = x[i] * theta + wn[i]\n",
    "        \n",
    "    else:\n",
    "        \n",
    "        m , n = np.shape(wn)    \n",
    "        x = np.zeros((m, n + 1))\n",
    "\n",
    "        for i in range(n):\n",
    "            x[:, i + 1] = x[: , i] * theta + wn[:, i]\n",
    "    \n",
    "    return x"
   ]
  },
  {
   "cell_type": "code",
   "execution_count": 23,
   "metadata": {
    "collapsed": false
   },
   "outputs": [],
   "source": [
    "T = [200, 500, 1000]\n",
    "phi = [0, 0.5, 0.9, 1]\n",
    "sd = 1"
   ]
  },
  {
   "cell_type": "code",
   "execution_count": 24,
   "metadata": {
    "collapsed": false
   },
   "outputs": [],
   "source": [
    "# empty dictionary\n",
    "\n",
    "betas = dict(map(lambda i: (i,[]), [(t, p) for t in T for p in phi]))\n",
    "r2s = dict(map(lambda i: (i,[]), [(t, p) for t in T for p in phi]))"
   ]
  },
  {
   "cell_type": "code",
   "execution_count": 25,
   "metadata": {
    "collapsed": true
   },
   "outputs": [],
   "source": [
    "# return list of betas and r^2s\n",
    "\n",
    "def simulation_and_regression(t, p): \n",
    "    \n",
    "    Bs, Rs = [], []\n",
    "    \n",
    "    WN = np.random.normal(0, sd, (2, t))\n",
    "\n",
    "    X = AR_1(WN[0, :], p)\n",
    "    Y = AR_1(WN[1, :], p)\n",
    "    \n",
    "    b = OLS(Y, X)\n",
    "    r = R_squares(Y, X, b)\n",
    "    \n",
    "    return b[-1], r['R_square']"
   ]
  },
  {
   "cell_type": "code",
   "execution_count": 26,
   "metadata": {
    "collapsed": false
   },
   "outputs": [],
   "source": [
    "# random shock for two AR processes\n",
    "\n",
    "for t in T:\n",
    "    for p in phi:\n",
    "        \n",
    "        results = map(lambda i: simulation_and_regression(t, p), range(10000))\n",
    "        \n",
    "        betas[(t, p)] = [res[0] for res in results]\n",
    "        r2s[(t, p)] = [res[1] for res in results]"
   ]
  },
  {
   "cell_type": "code",
   "execution_count": 27,
   "metadata": {
    "collapsed": false
   },
   "outputs": [
    {
     "data": {
      "image/png": "[encoded data removed]",
      "text/plain": [
       "<matplotlib.figure.Figure at 0x1190092d0>"
      ]
     },
     "metadata": {},
     "output_type": "display_data"
    }
   ],
   "source": [
    "fig, ax = plt.subplots(3,4, \n",
    "                       sharex=True, sharey=True,\n",
    "                       figsize=(10,10))\n",
    "\n",
    "\n",
    "for i, t in enumerate(T):\n",
    "    for j, p in enumerate(phi):\n",
    "        ax[i][j].hist(betas[(t, p)],bins=50)\n",
    "        ax[i][j].set_title('T = %d | psi=%.2f' %(t,p))"
   ]
  },
  {
   "cell_type": "code",
   "execution_count": 28,
   "metadata": {
    "collapsed": false
   },
   "outputs": [
    {
     "data": {
      "image/png": "[encoded data removed]",
      "text/plain": [
       "<matplotlib.figure.Figure at 0x11ae2c850>"
      ]
     },
     "metadata": {},
     "output_type": "display_data"
    }
   ],
   "source": [
    "fig, ax = plt.subplots(3,4, \n",
    "                       sharex=True, sharey=True,\n",
    "                       figsize=(10,10))\n",
    "\n",
    "\n",
    "for i, t in enumerate(T):\n",
    "    for j, p in enumerate(phi):\n",
    "        ax[i][j].hist(r2s[(t, p)],bins=50)\n",
    "        ax[i][j].set_title('T = %d | psi=%.2f' %(t,p))"
   ]
  },
  {
   "cell_type": "code",
   "execution_count": 29,
   "metadata": {
    "collapsed": false
   },
   "outputs": [
    {
     "data": {
      "text/plain": [
       "<matplotlib.legend.Legend at 0x119c94a90>"
      ]
     },
     "execution_count": 29,
     "metadata": {},
     "output_type": "execute_result"
    },
    {
     "data": {
      "image/png": "[encoded data removed]",
      "text/plain": [
       "<matplotlib.figure.Figure at 0x119b1c1d0>"
      ]
     },
     "metadata": {},
     "output_type": "display_data"
    }
   ],
   "source": [
    "fig, ax = plt.subplots(1,4, \n",
    "                       sharey=True,\n",
    "                       figsize=(20,6))\n",
    "\n",
    "for j, p in enumerate(phi):   \n",
    "    ax[j].set_title('psi=%.2f' %(p))\n",
    "    for i, t in enumerate(T):\n",
    "        ax[j].hist(betas[(t, p)],bins=50, label='T=%d' %t)\n",
    "plt.legend(shadow=True)"
   ]
  },
  {
   "cell_type": "code",
   "execution_count": 30,
   "metadata": {
    "collapsed": false
   },
   "outputs": [
    {
     "data": {
      "text/plain": [
       "<matplotlib.legend.Legend at 0x11bb09150>"
      ]
     },
     "execution_count": 30,
     "metadata": {},
     "output_type": "execute_result"
    },
    {
     "data": {
      "image/png": "[encoded data removed]",
      "text/plain": [
       "<matplotlib.figure.Figure at 0x119aa45d0>"
      ]
     },
     "metadata": {},
     "output_type": "display_data"
    }
   ],
   "source": [
    "fig, ax = plt.subplots(1,4, \n",
    "                       sharey=True,\n",
    "                       figsize=(20,6))\n",
    "\n",
    "for j, p in enumerate(phi):   \n",
    "    ax[j].set_title('psi=%.2f' %(p))\n",
    "    for i, t in enumerate(T):\n",
    "        ax[j].hist(r2s[(t, p)],bins=50, label='T=%d' %t)\n",
    "plt.legend(shadow=True)"
   ]
  },
  {
   "cell_type": "code",
   "execution_count": null,
   "metadata": {
    "collapsed": true
   },
   "outputs": [],
   "source": []
  }
 ],
 "metadata": {
  "kernelspec": {
   "display_name": "Python [conda root]",
   "language": "python",
   "name": "conda-root-py"
  },
  "language_info": {
   "codemirror_mode": {
    "name": "ipython",
    "version": 2
   },
   "file_extension": ".py",
   "mimetype": "text/x-python",
   "name": "python",
   "nbconvert_exporter": "python",
   "pygments_lexer": "ipython2",
   "version": "2.7.13"
  }
 },
 "nbformat": 4,
 "nbformat_minor": 2
}
