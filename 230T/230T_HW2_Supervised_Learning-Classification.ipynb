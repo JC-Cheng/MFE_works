{
 "cells": [
  {
   "cell_type": "markdown",
   "metadata": {},
   "source": [
    "# MFE230T\n",
    "\n",
    "## Jen-Chieh Cheng"
   ]
  },
  {
   "cell_type": "markdown",
   "metadata": {},
   "source": [
    "# Scikit-learn"
   ]
  },
  {
   "cell_type": "code",
   "execution_count": 1,
   "metadata": {
    "collapsed": true
   },
   "outputs": [],
   "source": [
    "import csv\n",
    "import pandas as pd\n",
    "import numpy as np\n",
    "import sklearn\n",
    "import matplotlib.pyplot as plt\n",
    "%matplotlib inline"
   ]
  },
  {
   "cell_type": "markdown",
   "metadata": {},
   "source": [
    "### Loading the data"
   ]
  },
  {
   "cell_type": "code",
   "execution_count": 2,
   "metadata": {},
   "outputs": [
    {
     "name": "stderr",
     "output_type": "stream",
     "text": [
      "/Users/jenchieh/anaconda2/lib/python2.7/site-packages/IPython/core/interactiveshell.py:2717: DtypeWarning: Columns (19,55) have mixed types. Specify dtype option on import or set low_memory=False.\n",
      "  interactivity=interactivity, compiler=compiler, result=result)\n"
     ]
    }
   ],
   "source": [
    "df = pd.read_csv('../loan.csv')"
   ]
  },
  {
   "cell_type": "markdown",
   "metadata": {},
   "source": [
    "### Inspecting the data"
   ]
  },
  {
   "cell_type": "code",
   "execution_count": 3,
   "metadata": {},
   "outputs": [
    {
     "data": {
      "text/html": [
       "<div>\n",
       "<table border=\"1\" class=\"dataframe\">\n",
       "  <thead>\n",
       "    <tr style=\"text-align: right;\">\n",
       "      <th></th>\n",
       "      <th>id</th>\n",
       "      <th>member_id</th>\n",
       "      <th>loan_amnt</th>\n",
       "      <th>funded_amnt</th>\n",
       "      <th>funded_amnt_inv</th>\n",
       "      <th>term</th>\n",
       "      <th>int_rate</th>\n",
       "      <th>installment</th>\n",
       "      <th>grade</th>\n",
       "      <th>sub_grade</th>\n",
       "      <th>...</th>\n",
       "      <th>total_bal_il</th>\n",
       "      <th>il_util</th>\n",
       "      <th>open_rv_12m</th>\n",
       "      <th>open_rv_24m</th>\n",
       "      <th>max_bal_bc</th>\n",
       "      <th>all_util</th>\n",
       "      <th>total_rev_hi_lim</th>\n",
       "      <th>inq_fi</th>\n",
       "      <th>total_cu_tl</th>\n",
       "      <th>inq_last_12m</th>\n",
       "    </tr>\n",
       "  </thead>\n",
       "  <tbody>\n",
       "    <tr>\n",
       "      <th>0</th>\n",
       "      <td>1077501</td>\n",
       "      <td>1296599</td>\n",
       "      <td>5000.0</td>\n",
       "      <td>5000.0</td>\n",
       "      <td>4975.0</td>\n",
       "      <td>36 months</td>\n",
       "      <td>10.65</td>\n",
       "      <td>162.87</td>\n",
       "      <td>B</td>\n",
       "      <td>B2</td>\n",
       "      <td>...</td>\n",
       "      <td>NaN</td>\n",
       "      <td>NaN</td>\n",
       "      <td>NaN</td>\n",
       "      <td>NaN</td>\n",
       "      <td>NaN</td>\n",
       "      <td>NaN</td>\n",
       "      <td>NaN</td>\n",
       "      <td>NaN</td>\n",
       "      <td>NaN</td>\n",
       "      <td>NaN</td>\n",
       "    </tr>\n",
       "    <tr>\n",
       "      <th>1</th>\n",
       "      <td>1077430</td>\n",
       "      <td>1314167</td>\n",
       "      <td>2500.0</td>\n",
       "      <td>2500.0</td>\n",
       "      <td>2500.0</td>\n",
       "      <td>60 months</td>\n",
       "      <td>15.27</td>\n",
       "      <td>59.83</td>\n",
       "      <td>C</td>\n",
       "      <td>C4</td>\n",
       "      <td>...</td>\n",
       "      <td>NaN</td>\n",
       "      <td>NaN</td>\n",
       "      <td>NaN</td>\n",
       "      <td>NaN</td>\n",
       "      <td>NaN</td>\n",
       "      <td>NaN</td>\n",
       "      <td>NaN</td>\n",
       "      <td>NaN</td>\n",
       "      <td>NaN</td>\n",
       "      <td>NaN</td>\n",
       "    </tr>\n",
       "    <tr>\n",
       "      <th>2</th>\n",
       "      <td>1077175</td>\n",
       "      <td>1313524</td>\n",
       "      <td>2400.0</td>\n",
       "      <td>2400.0</td>\n",
       "      <td>2400.0</td>\n",
       "      <td>36 months</td>\n",
       "      <td>15.96</td>\n",
       "      <td>84.33</td>\n",
       "      <td>C</td>\n",
       "      <td>C5</td>\n",
       "      <td>...</td>\n",
       "      <td>NaN</td>\n",
       "      <td>NaN</td>\n",
       "      <td>NaN</td>\n",
       "      <td>NaN</td>\n",
       "      <td>NaN</td>\n",
       "      <td>NaN</td>\n",
       "      <td>NaN</td>\n",
       "      <td>NaN</td>\n",
       "      <td>NaN</td>\n",
       "      <td>NaN</td>\n",
       "    </tr>\n",
       "    <tr>\n",
       "      <th>3</th>\n",
       "      <td>1076863</td>\n",
       "      <td>1277178</td>\n",
       "      <td>10000.0</td>\n",
       "      <td>10000.0</td>\n",
       "      <td>10000.0</td>\n",
       "      <td>36 months</td>\n",
       "      <td>13.49</td>\n",
       "      <td>339.31</td>\n",
       "      <td>C</td>\n",
       "      <td>C1</td>\n",
       "      <td>...</td>\n",
       "      <td>NaN</td>\n",
       "      <td>NaN</td>\n",
       "      <td>NaN</td>\n",
       "      <td>NaN</td>\n",
       "      <td>NaN</td>\n",
       "      <td>NaN</td>\n",
       "      <td>NaN</td>\n",
       "      <td>NaN</td>\n",
       "      <td>NaN</td>\n",
       "      <td>NaN</td>\n",
       "    </tr>\n",
       "    <tr>\n",
       "      <th>4</th>\n",
       "      <td>1075358</td>\n",
       "      <td>1311748</td>\n",
       "      <td>3000.0</td>\n",
       "      <td>3000.0</td>\n",
       "      <td>3000.0</td>\n",
       "      <td>60 months</td>\n",
       "      <td>12.69</td>\n",
       "      <td>67.79</td>\n",
       "      <td>B</td>\n",
       "      <td>B5</td>\n",
       "      <td>...</td>\n",
       "      <td>NaN</td>\n",
       "      <td>NaN</td>\n",
       "      <td>NaN</td>\n",
       "      <td>NaN</td>\n",
       "      <td>NaN</td>\n",
       "      <td>NaN</td>\n",
       "      <td>NaN</td>\n",
       "      <td>NaN</td>\n",
       "      <td>NaN</td>\n",
       "      <td>NaN</td>\n",
       "    </tr>\n",
       "  </tbody>\n",
       "</table>\n",
       "<p>5 rows × 74 columns</p>\n",
       "</div>"
      ],
      "text/plain": [
       "        id  member_id  loan_amnt  funded_amnt  funded_amnt_inv        term  \\\n",
       "0  1077501    1296599     5000.0       5000.0           4975.0   36 months   \n",
       "1  1077430    1314167     2500.0       2500.0           2500.0   60 months   \n",
       "2  1077175    1313524     2400.0       2400.0           2400.0   36 months   \n",
       "3  1076863    1277178    10000.0      10000.0          10000.0   36 months   \n",
       "4  1075358    1311748     3000.0       3000.0           3000.0   60 months   \n",
       "\n",
       "   int_rate  installment grade sub_grade     ...      total_bal_il il_util  \\\n",
       "0     10.65       162.87     B        B2     ...               NaN     NaN   \n",
       "1     15.27        59.83     C        C4     ...               NaN     NaN   \n",
       "2     15.96        84.33     C        C5     ...               NaN     NaN   \n",
       "3     13.49       339.31     C        C1     ...               NaN     NaN   \n",
       "4     12.69        67.79     B        B5     ...               NaN     NaN   \n",
       "\n",
       "  open_rv_12m  open_rv_24m max_bal_bc all_util total_rev_hi_lim inq_fi  \\\n",
       "0         NaN          NaN        NaN      NaN              NaN    NaN   \n",
       "1         NaN          NaN        NaN      NaN              NaN    NaN   \n",
       "2         NaN          NaN        NaN      NaN              NaN    NaN   \n",
       "3         NaN          NaN        NaN      NaN              NaN    NaN   \n",
       "4         NaN          NaN        NaN      NaN              NaN    NaN   \n",
       "\n",
       "  total_cu_tl inq_last_12m  \n",
       "0         NaN          NaN  \n",
       "1         NaN          NaN  \n",
       "2         NaN          NaN  \n",
       "3         NaN          NaN  \n",
       "4         NaN          NaN  \n",
       "\n",
       "[5 rows x 74 columns]"
      ]
     },
     "execution_count": 3,
     "metadata": {},
     "output_type": "execute_result"
    }
   ],
   "source": [
    "df.head()"
   ]
  },
  {
   "cell_type": "code",
   "execution_count": 4,
   "metadata": {},
   "outputs": [
    {
     "name": "stdout",
     "output_type": "stream",
     "text": [
      "(887379, 74)\n",
      "[dtype('int64') dtype('float64') dtype('O')]\n"
     ]
    }
   ],
   "source": [
    "print df.shape\n",
    "print df.dtypes.unique()"
   ]
  },
  {
   "cell_type": "code",
   "execution_count": 5,
   "metadata": {},
   "outputs": [
    {
     "name": "stdout",
     "output_type": "stream",
     "text": [
      "<class 'pandas.core.frame.DataFrame'>\n",
      "RangeIndex: 887379 entries, 0 to 887378\n",
      "Data columns (total 74 columns):\n",
      "id                             887379 non-null int64\n",
      "member_id                      887379 non-null int64\n",
      "loan_amnt                      887379 non-null float64\n",
      "funded_amnt                    887379 non-null float64\n",
      "funded_amnt_inv                887379 non-null float64\n",
      "term                           887379 non-null object\n",
      "int_rate                       887379 non-null float64\n",
      "installment                    887379 non-null float64\n",
      "grade                          887379 non-null object\n",
      "sub_grade                      887379 non-null object\n",
      "emp_title                      835922 non-null object\n",
      "emp_length                     887379 non-null object\n",
      "home_ownership                 887379 non-null object\n",
      "annual_inc                     887375 non-null float64\n",
      "verification_status            887379 non-null object\n",
      "issue_d                        887379 non-null object\n",
      "loan_status                    887379 non-null object\n",
      "pymnt_plan                     887379 non-null object\n",
      "url                            887379 non-null object\n",
      "desc                           126029 non-null object\n",
      "purpose                        887379 non-null object\n",
      "title                          887228 non-null object\n",
      "zip_code                       887379 non-null object\n",
      "addr_state                     887379 non-null object\n",
      "dti                            887379 non-null float64\n",
      "delinq_2yrs                    887350 non-null float64\n",
      "earliest_cr_line               887350 non-null object\n",
      "inq_last_6mths                 887350 non-null float64\n",
      "mths_since_last_delinq         433067 non-null float64\n",
      "mths_since_last_record         137053 non-null float64\n",
      "open_acc                       887350 non-null float64\n",
      "pub_rec                        887350 non-null float64\n",
      "revol_bal                      887379 non-null float64\n",
      "revol_util                     886877 non-null float64\n",
      "total_acc                      887350 non-null float64\n",
      "initial_list_status            887379 non-null object\n",
      "out_prncp                      887379 non-null float64\n",
      "out_prncp_inv                  887379 non-null float64\n",
      "total_pymnt                    887379 non-null float64\n",
      "total_pymnt_inv                887379 non-null float64\n",
      "total_rec_prncp                887379 non-null float64\n",
      "total_rec_int                  887379 non-null float64\n",
      "total_rec_late_fee             887379 non-null float64\n",
      "recoveries                     887379 non-null float64\n",
      "collection_recovery_fee        887379 non-null float64\n",
      "last_pymnt_d                   869720 non-null object\n",
      "last_pymnt_amnt                887379 non-null float64\n",
      "next_pymnt_d                   634408 non-null object\n",
      "last_credit_pull_d             887326 non-null object\n",
      "collections_12_mths_ex_med     887234 non-null float64\n",
      "mths_since_last_major_derog    221703 non-null float64\n",
      "policy_code                    887379 non-null float64\n",
      "application_type               887379 non-null object\n",
      "annual_inc_joint               511 non-null float64\n",
      "dti_joint                      509 non-null float64\n",
      "verification_status_joint      511 non-null object\n",
      "acc_now_delinq                 887350 non-null float64\n",
      "tot_coll_amt                   817103 non-null float64\n",
      "tot_cur_bal                    817103 non-null float64\n",
      "open_acc_6m                    21372 non-null float64\n",
      "open_il_6m                     21372 non-null float64\n",
      "open_il_12m                    21372 non-null float64\n",
      "open_il_24m                    21372 non-null float64\n",
      "mths_since_rcnt_il             20810 non-null float64\n",
      "total_bal_il                   21372 non-null float64\n",
      "il_util                        18617 non-null float64\n",
      "open_rv_12m                    21372 non-null float64\n",
      "open_rv_24m                    21372 non-null float64\n",
      "max_bal_bc                     21372 non-null float64\n",
      "all_util                       21372 non-null float64\n",
      "total_rev_hi_lim               817103 non-null float64\n",
      "inq_fi                         21372 non-null float64\n",
      "total_cu_tl                    21372 non-null float64\n",
      "inq_last_12m                   21372 non-null float64\n",
      "dtypes: float64(49), int64(2), object(23)\n",
      "memory usage: 501.0+ MB\n",
      "None\n"
     ]
    }
   ],
   "source": [
    "print df.info()"
   ]
  },
  {
   "cell_type": "code",
   "execution_count": 6,
   "metadata": {},
   "outputs": [
    {
     "name": "stdout",
     "output_type": "stream",
     "text": [
      "{dtype('O'): Index([u'term', u'grade', u'sub_grade', u'emp_title', u'emp_length',\n",
      "       u'home_ownership', u'verification_status', u'issue_d', u'loan_status',\n",
      "       u'pymnt_plan', u'url', u'desc', u'purpose', u'title', u'zip_code',\n",
      "       u'addr_state', u'earliest_cr_line', u'initial_list_status',\n",
      "       u'last_pymnt_d', u'next_pymnt_d', u'last_credit_pull_d',\n",
      "       u'application_type', u'verification_status_joint'],\n",
      "      dtype='object'), dtype('int64'): Index([u'id', u'member_id'], dtype='object'), dtype('float64'): Index([u'loan_amnt', u'funded_amnt', u'funded_amnt_inv', u'int_rate',\n",
      "       u'installment', u'annual_inc', u'dti', u'delinq_2yrs',\n",
      "       u'inq_last_6mths', u'mths_since_last_delinq', u'mths_since_last_record',\n",
      "       u'open_acc', u'pub_rec', u'revol_bal', u'revol_util', u'total_acc',\n",
      "       u'out_prncp', u'out_prncp_inv', u'total_pymnt', u'total_pymnt_inv',\n",
      "       u'total_rec_prncp', u'total_rec_int', u'total_rec_late_fee',\n",
      "       u'recoveries', u'collection_recovery_fee', u'last_pymnt_amnt',\n",
      "       u'collections_12_mths_ex_med', u'mths_since_last_major_derog',\n",
      "       u'policy_code', u'annual_inc_joint', u'dti_joint', u'acc_now_delinq',\n",
      "       u'tot_coll_amt', u'tot_cur_bal', u'open_acc_6m', u'open_il_6m',\n",
      "       u'open_il_12m', u'open_il_24m', u'mths_since_rcnt_il', u'total_bal_il',\n",
      "       u'il_util', u'open_rv_12m', u'open_rv_24m', u'max_bal_bc', u'all_util',\n",
      "       u'total_rev_hi_lim', u'inq_fi', u'total_cu_tl', u'inq_last_12m'],\n",
      "      dtype='object')}\n"
     ]
    }
   ],
   "source": [
    "g = df.columns.to_series().groupby(df.dtypes).groups\n",
    "print g"
   ]
  },
  {
   "cell_type": "code",
   "execution_count": 7,
   "metadata": {
    "scrolled": true
   },
   "outputs": [
    {
     "name": "stdout",
     "output_type": "stream",
     "text": [
      "['term', 'grade', 'sub_grade', 'emp_title', 'emp_length', 'home_ownership', 'verification_status', 'issue_d', 'loan_status', 'pymnt_plan', 'url', 'desc', 'purpose', 'title', 'zip_code', 'addr_state', 'earliest_cr_line', 'initial_list_status', 'last_pymnt_d', 'next_pymnt_d', 'last_credit_pull_d', 'application_type', 'verification_status_joint'] 23\n"
     ]
    }
   ],
   "source": [
    "objects = list(df.select_dtypes(include=['object']).columns)\n",
    "print objects, len(objects)"
   ]
  },
  {
   "cell_type": "code",
   "execution_count": 8,
   "metadata": {},
   "outputs": [
    {
     "data": {
      "text/plain": [
       "<matplotlib.axes._subplots.AxesSubplot at 0x120ee5a50>"
      ]
     },
     "execution_count": 8,
     "metadata": {},
     "output_type": "execute_result"
    },
    {
     "data": {
      "image/png": "[encoded data removed]",
      "text/plain": [
       "<matplotlib.figure.Figure at 0x11d2ad7d0>"
      ]
     },
     "metadata": {},
     "output_type": "display_data"
    }
   ],
   "source": [
    "#plt.figure()\n",
    "df[objects].count().plot.bar()"
   ]
  },
  {
   "cell_type": "code",
   "execution_count": 9,
   "metadata": {},
   "outputs": [
    {
     "data": {
      "text/plain": [
       "<matplotlib.axes._subplots.AxesSubplot at 0x114925150>"
      ]
     },
     "execution_count": 9,
     "metadata": {},
     "output_type": "execute_result"
    },
    {
     "data": {
      "image/png": "[encoded data removed]",
      "text/plain": [
       "<matplotlib.figure.Figure at 0x1109b2990>"
      ]
     },
     "metadata": {},
     "output_type": "display_data"
    }
   ],
   "source": [
    "df.count().plot.bar()"
   ]
  },
  {
   "cell_type": "code",
   "execution_count": 10,
   "metadata": {},
   "outputs": [
    {
     "data": {
      "text/plain": [
       "<matplotlib.axes._subplots.AxesSubplot at 0x1109108d0>"
      ]
     },
     "execution_count": 10,
     "metadata": {},
     "output_type": "execute_result"
    },
    {
     "data": {
      "image/png": "[encoded data removed]",
      "text/plain": [
       "<matplotlib.figure.Figure at 0x115025490>"
      ]
     },
     "metadata": {},
     "output_type": "display_data"
    }
   ],
   "source": [
    "#plt.figure()\n",
    "\n",
    "bins = np.arange(0,1000000, 100000)\n",
    "hist = pd.cut(df.count(), bins).value_counts()\n",
    "hist.to_frame().plot(kind='bar')"
   ]
  },
  {
   "cell_type": "markdown",
   "metadata": {},
   "source": [
    "### Selecting attributes"
   ]
  },
  {
   "cell_type": "code",
   "execution_count": 11,
   "metadata": {},
   "outputs": [
    {
     "name": "stdout",
     "output_type": "stream",
     "text": [
      "['id', 'member_id', 'loan_amnt', 'funded_amnt', 'funded_amnt_inv', 'term', 'int_rate', 'installment', 'grade', 'sub_grade', 'emp_length', 'home_ownership', 'annual_inc', 'verification_status', 'issue_d', 'loan_status', 'pymnt_plan', 'url', 'purpose', 'title', 'zip_code', 'addr_state', 'dti', 'delinq_2yrs', 'earliest_cr_line', 'inq_last_6mths', 'open_acc', 'pub_rec', 'revol_bal', 'revol_util', 'total_acc', 'initial_list_status', 'out_prncp', 'out_prncp_inv', 'total_pymnt', 'total_pymnt_inv', 'total_rec_prncp', 'total_rec_int', 'total_rec_late_fee', 'recoveries', 'collection_recovery_fee', 'last_pymnt_d', 'last_pymnt_amnt', 'last_credit_pull_d', 'collections_12_mths_ex_med', 'policy_code', 'application_type', 'acc_now_delinq']\n",
      "48\n"
     ]
    }
   ],
   "source": [
    "selected = []\n",
    "n = 850000\n",
    "for col, count in zip(df.columns, df.count()):\n",
    "    if count >= n:\n",
    "        selected.append(col)\n",
    "print selected\n",
    "print len(selected)\n",
    "data = df[selected]"
   ]
  },
  {
   "cell_type": "markdown",
   "metadata": {},
   "source": [
    "### Cleaning the data"
   ]
  },
  {
   "cell_type": "code",
   "execution_count": 12,
   "metadata": {},
   "outputs": [
    {
     "name": "stdout",
     "output_type": "stream",
     "text": [
      "Number of applications: 887379\n",
      "Number of NaNs: 18717\n",
      "Number of NaNs: 0\n",
      "Number of applications: 869041\n"
     ]
    }
   ],
   "source": [
    "print \"Number of applications: %d\" % (len(data))\n",
    "print \"Number of NaNs: %d\" % (data.isnull().values.sum())\n",
    "data = data[selected]\n",
    "data = data.dropna(thresh=len(selected))\n",
    "print \"Number of NaNs: %d\" % (data.isnull().values.sum())\n",
    "print \"Number of applications: %d\" % (len(data))"
   ]
  },
  {
   "cell_type": "markdown",
   "metadata": {},
   "source": [
    "### Remove columns that we cannot use"
   ]
  },
  {
   "cell_type": "code",
   "execution_count": 13,
   "metadata": {},
   "outputs": [
    {
     "name": "stdout",
     "output_type": "stream",
     "text": [
      "21\n"
     ]
    }
   ],
   "source": [
    "remove = ['member_id','int_rate', 'installment', 'grade', 'sub_grade', 'pymnt_plan',\n",
    "          'out_prncp', 'out_prncp_inv', 'total_pymnt', 'total_pymnt_inv', 'total_rec_prncp',\n",
    "          'total_rec_int', 'total_rec_late_fee', 'recoveries', 'collection_recovery_fee',\n",
    "          'last_pymnt_d', 'last_pymnt_amnt','last_credit_pull_d', 'funded_amnt',\n",
    "          'funded_amnt_inv', 'policy_code', 'issue_d', 'initial_list_status',\n",
    "          ##\n",
    "          'id', 'url', 'zip_code', 'addr_state'\n",
    "         ]\n",
    "selected_data = data.drop(remove, axis=1)\n",
    "print len(selected_data.columns)"
   ]
  },
  {
   "cell_type": "code",
   "execution_count": 14,
   "metadata": {},
   "outputs": [
    {
     "name": "stdout",
     "output_type": "stream",
     "text": [
      "(869041, 21)\n",
      "['loan_amnt', 'term', 'emp_length', 'home_ownership', 'annual_inc', 'verification_status', 'loan_status', 'purpose', 'title', 'dti', 'delinq_2yrs', 'earliest_cr_line', 'inq_last_6mths', 'open_acc', 'pub_rec', 'revol_bal', 'revol_util', 'total_acc', 'collections_12_mths_ex_med', 'application_type', 'acc_now_delinq']\n"
     ]
    }
   ],
   "source": [
    "print selected_data.shape\n",
    "print selected_data.columns.tolist()"
   ]
  },
  {
   "cell_type": "code",
   "execution_count": 15,
   "metadata": {},
   "outputs": [
    {
     "name": "stdout",
     "output_type": "stream",
     "text": [
      "           loan_amnt    annual_inc            dti    delinq_2yrs  \\\n",
      "count  869041.000000  8.690410e+05  869041.000000  869041.000000   \n",
      "mean    14750.817251  7.495792e+04      18.133464       0.313605   \n",
      "std      8424.695154  6.443026e+04      17.282781       0.860815   \n",
      "min       500.000000  0.000000e+00       0.000000       0.000000   \n",
      "25%      8000.000000  4.500000e+04      11.900000       0.000000   \n",
      "50%     13000.000000  6.470000e+04      17.630000       0.000000   \n",
      "75%     20000.000000  9.000000e+04      23.910000       0.000000   \n",
      "max     35000.000000  9.500000e+06    9999.000000      39.000000   \n",
      "\n",
      "       inq_last_6mths       open_acc        pub_rec     revol_bal  \\\n",
      "count   869041.000000  869041.000000  869041.000000  8.690410e+05   \n",
      "mean         0.695523      11.542161       0.194372  1.691511e+04   \n",
      "std          0.998992       5.304391       0.580457  2.240665e+04   \n",
      "min          0.000000       1.000000       0.000000  0.000000e+00   \n",
      "25%          0.000000       8.000000       0.000000  6.458000e+03   \n",
      "50%          0.000000      11.000000       0.000000  1.188300e+04   \n",
      "75%          1.000000      14.000000       0.000000  2.082500e+04   \n",
      "max         33.000000      90.000000      86.000000  2.904836e+06   \n",
      "\n",
      "          revol_util      total_acc  collections_12_mths_ex_med  \\\n",
      "count  869041.000000  869041.000000               869041.000000   \n",
      "mean       55.136933      25.267915                    0.014186   \n",
      "std        23.819303      11.830778                    0.133461   \n",
      "min         0.000000       1.000000                    0.000000   \n",
      "25%        37.800000      17.000000                    0.000000   \n",
      "50%        56.000000      24.000000                    0.000000   \n",
      "75%        73.600000      32.000000                    0.000000   \n",
      "max       892.300000     169.000000                   20.000000   \n",
      "\n",
      "       acc_now_delinq  \n",
      "count   869041.000000  \n",
      "mean         0.004989  \n",
      "std          0.077713  \n",
      "min          0.000000  \n",
      "25%          0.000000  \n",
      "50%          0.000000  \n",
      "75%          0.000000  \n",
      "max         14.000000  \n"
     ]
    },
    {
     "data": {
      "text/plain": [
       "<matplotlib.axes._subplots.AxesSubplot at 0x1156567d0>"
      ]
     },
     "execution_count": 15,
     "metadata": {},
     "output_type": "execute_result"
    },
    {
     "data": {
      "image/png": "[encoded data removed]",
      "text/plain": [
       "<matplotlib.figure.Figure at 0x1150f4cd0>"
      ]
     },
     "metadata": {},
     "output_type": "display_data"
    }
   ],
   "source": [
    "print selected_data.describe()\n",
    "plt.figure()\n",
    "objects = list(selected_data.select_dtypes(include=['object']).columns)\n",
    "selected_data[objects].count().plot.bar()"
   ]
  },
  {
   "cell_type": "markdown",
   "metadata": {},
   "source": [
    "### Selecting 13 features to use in this initial approach"
   ]
  },
  {
   "cell_type": "code",
   "execution_count": 16,
   "metadata": {},
   "outputs": [
    {
     "name": "stdout",
     "output_type": "stream",
     "text": [
      "['loan_status', 'title', 'earliest_cr_line', 'open_acc', 'revol_bal', 'revol_util', 'application_type']\n"
     ]
    }
   ],
   "source": [
    "features = ['emp_length',                # number of years of employment\n",
    "            'home_ownership',            # home_ownership status: own, mortgage or rent\n",
    "            'dti',                       # debt to income ratio\n",
    "            'purpose',                   # the purpose of the loan\n",
    "            'term',                      # the term of the loan\n",
    "            'loan_amnt',                 # loan amount\n",
    "            'annual_inc',                # annual income           \n",
    "            'total_acc',                 # num accounts\n",
    "            'delinq_2yrs',               # num past delinquencies\n",
    "            'pub_rec',                   # num public records\n",
    "            'inq_last_6mths',            # num inquiries past 6 months\n",
    "            'collections_12_mths_ex_med',# num collections that are not medical in the last year\n",
    "            'acc_now_delinq',            # num accounts on which is now delinquent\n",
    "            'verification_status',       # 'Verified', 'Source Verified', 'Not Verified'\n",
    "           ]\n",
    "\n",
    "omitted_features = filter(lambda c: c not in features, selected_data.columns.tolist())\n",
    "print omitted_features"
   ]
  },
  {
   "cell_type": "markdown",
   "metadata": {},
   "source": [
    "### The unselected attributes"
   ]
  },
  {
   "cell_type": "code",
   "execution_count": 17,
   "metadata": {},
   "outputs": [
    {
     "data": {
      "text/html": [
       "<div>\n",
       "<table border=\"1\" class=\"dataframe\">\n",
       "  <thead>\n",
       "    <tr style=\"text-align: right;\">\n",
       "      <th></th>\n",
       "      <th>loan_status</th>\n",
       "      <th>title</th>\n",
       "      <th>earliest_cr_line</th>\n",
       "      <th>open_acc</th>\n",
       "      <th>revol_bal</th>\n",
       "      <th>revol_util</th>\n",
       "      <th>application_type</th>\n",
       "    </tr>\n",
       "  </thead>\n",
       "  <tbody>\n",
       "    <tr>\n",
       "      <th>0</th>\n",
       "      <td>Fully Paid</td>\n",
       "      <td>Computer</td>\n",
       "      <td>Jan-1985</td>\n",
       "      <td>3.0</td>\n",
       "      <td>13648.0</td>\n",
       "      <td>83.7</td>\n",
       "      <td>INDIVIDUAL</td>\n",
       "    </tr>\n",
       "    <tr>\n",
       "      <th>1</th>\n",
       "      <td>Charged Off</td>\n",
       "      <td>bike</td>\n",
       "      <td>Apr-1999</td>\n",
       "      <td>3.0</td>\n",
       "      <td>1687.0</td>\n",
       "      <td>9.4</td>\n",
       "      <td>INDIVIDUAL</td>\n",
       "    </tr>\n",
       "    <tr>\n",
       "      <th>2</th>\n",
       "      <td>Fully Paid</td>\n",
       "      <td>real estate business</td>\n",
       "      <td>Nov-2001</td>\n",
       "      <td>2.0</td>\n",
       "      <td>2956.0</td>\n",
       "      <td>98.5</td>\n",
       "      <td>INDIVIDUAL</td>\n",
       "    </tr>\n",
       "    <tr>\n",
       "      <th>3</th>\n",
       "      <td>Fully Paid</td>\n",
       "      <td>personel</td>\n",
       "      <td>Feb-1996</td>\n",
       "      <td>10.0</td>\n",
       "      <td>5598.0</td>\n",
       "      <td>21.0</td>\n",
       "      <td>INDIVIDUAL</td>\n",
       "    </tr>\n",
       "    <tr>\n",
       "      <th>4</th>\n",
       "      <td>Current</td>\n",
       "      <td>Personal</td>\n",
       "      <td>Jan-1996</td>\n",
       "      <td>15.0</td>\n",
       "      <td>27783.0</td>\n",
       "      <td>53.9</td>\n",
       "      <td>INDIVIDUAL</td>\n",
       "    </tr>\n",
       "  </tbody>\n",
       "</table>\n",
       "</div>"
      ],
      "text/plain": [
       "   loan_status                 title earliest_cr_line  open_acc  revol_bal  \\\n",
       "0   Fully Paid              Computer         Jan-1985       3.0    13648.0   \n",
       "1  Charged Off                  bike         Apr-1999       3.0     1687.0   \n",
       "2   Fully Paid  real estate business         Nov-2001       2.0     2956.0   \n",
       "3   Fully Paid              personel         Feb-1996      10.0     5598.0   \n",
       "4      Current              Personal         Jan-1996      15.0    27783.0   \n",
       "\n",
       "   revol_util application_type  \n",
       "0        83.7       INDIVIDUAL  \n",
       "1         9.4       INDIVIDUAL  \n",
       "2        98.5       INDIVIDUAL  \n",
       "3        21.0       INDIVIDUAL  \n",
       "4        53.9       INDIVIDUAL  "
      ]
     },
     "execution_count": 17,
     "metadata": {},
     "output_type": "execute_result"
    }
   ],
   "source": [
    "selected_data[omitted_features].head()"
   ]
  },
  {
   "cell_type": "code",
   "execution_count": 18,
   "metadata": {},
   "outputs": [
    {
     "data": {
      "text/html": [
       "<div>\n",
       "<table border=\"1\" class=\"dataframe\">\n",
       "  <thead>\n",
       "    <tr style=\"text-align: right;\">\n",
       "      <th></th>\n",
       "      <th>emp_length</th>\n",
       "      <th>home_ownership</th>\n",
       "      <th>dti</th>\n",
       "      <th>purpose</th>\n",
       "      <th>term</th>\n",
       "      <th>loan_amnt</th>\n",
       "      <th>annual_inc</th>\n",
       "      <th>total_acc</th>\n",
       "      <th>delinq_2yrs</th>\n",
       "      <th>pub_rec</th>\n",
       "      <th>inq_last_6mths</th>\n",
       "      <th>collections_12_mths_ex_med</th>\n",
       "      <th>acc_now_delinq</th>\n",
       "      <th>verification_status</th>\n",
       "    </tr>\n",
       "  </thead>\n",
       "  <tbody>\n",
       "    <tr>\n",
       "      <th>0</th>\n",
       "      <td>10+ years</td>\n",
       "      <td>RENT</td>\n",
       "      <td>27.65</td>\n",
       "      <td>credit_card</td>\n",
       "      <td>36 months</td>\n",
       "      <td>5000.0</td>\n",
       "      <td>24000.0</td>\n",
       "      <td>9.0</td>\n",
       "      <td>0.0</td>\n",
       "      <td>0.0</td>\n",
       "      <td>1.0</td>\n",
       "      <td>0.0</td>\n",
       "      <td>0.0</td>\n",
       "      <td>Verified</td>\n",
       "    </tr>\n",
       "    <tr>\n",
       "      <th>1</th>\n",
       "      <td>&lt; 1 year</td>\n",
       "      <td>RENT</td>\n",
       "      <td>1.00</td>\n",
       "      <td>car</td>\n",
       "      <td>60 months</td>\n",
       "      <td>2500.0</td>\n",
       "      <td>30000.0</td>\n",
       "      <td>4.0</td>\n",
       "      <td>0.0</td>\n",
       "      <td>0.0</td>\n",
       "      <td>5.0</td>\n",
       "      <td>0.0</td>\n",
       "      <td>0.0</td>\n",
       "      <td>Source Verified</td>\n",
       "    </tr>\n",
       "    <tr>\n",
       "      <th>2</th>\n",
       "      <td>10+ years</td>\n",
       "      <td>RENT</td>\n",
       "      <td>8.72</td>\n",
       "      <td>small_business</td>\n",
       "      <td>36 months</td>\n",
       "      <td>2400.0</td>\n",
       "      <td>12252.0</td>\n",
       "      <td>10.0</td>\n",
       "      <td>0.0</td>\n",
       "      <td>0.0</td>\n",
       "      <td>2.0</td>\n",
       "      <td>0.0</td>\n",
       "      <td>0.0</td>\n",
       "      <td>Not Verified</td>\n",
       "    </tr>\n",
       "    <tr>\n",
       "      <th>3</th>\n",
       "      <td>10+ years</td>\n",
       "      <td>RENT</td>\n",
       "      <td>20.00</td>\n",
       "      <td>other</td>\n",
       "      <td>36 months</td>\n",
       "      <td>10000.0</td>\n",
       "      <td>49200.0</td>\n",
       "      <td>37.0</td>\n",
       "      <td>0.0</td>\n",
       "      <td>0.0</td>\n",
       "      <td>1.0</td>\n",
       "      <td>0.0</td>\n",
       "      <td>0.0</td>\n",
       "      <td>Source Verified</td>\n",
       "    </tr>\n",
       "    <tr>\n",
       "      <th>4</th>\n",
       "      <td>1 year</td>\n",
       "      <td>RENT</td>\n",
       "      <td>17.94</td>\n",
       "      <td>other</td>\n",
       "      <td>60 months</td>\n",
       "      <td>3000.0</td>\n",
       "      <td>80000.0</td>\n",
       "      <td>38.0</td>\n",
       "      <td>0.0</td>\n",
       "      <td>0.0</td>\n",
       "      <td>0.0</td>\n",
       "      <td>0.0</td>\n",
       "      <td>0.0</td>\n",
       "      <td>Source Verified</td>\n",
       "    </tr>\n",
       "  </tbody>\n",
       "</table>\n",
       "</div>"
      ],
      "text/plain": [
       "  emp_length home_ownership    dti         purpose        term  loan_amnt  \\\n",
       "0  10+ years           RENT  27.65     credit_card   36 months     5000.0   \n",
       "1   < 1 year           RENT   1.00             car   60 months     2500.0   \n",
       "2  10+ years           RENT   8.72  small_business   36 months     2400.0   \n",
       "3  10+ years           RENT  20.00           other   36 months    10000.0   \n",
       "4     1 year           RENT  17.94           other   60 months     3000.0   \n",
       "\n",
       "   annual_inc  total_acc  delinq_2yrs  pub_rec  inq_last_6mths  \\\n",
       "0     24000.0        9.0          0.0      0.0             1.0   \n",
       "1     30000.0        4.0          0.0      0.0             5.0   \n",
       "2     12252.0       10.0          0.0      0.0             2.0   \n",
       "3     49200.0       37.0          0.0      0.0             1.0   \n",
       "4     80000.0       38.0          0.0      0.0             0.0   \n",
       "\n",
       "   collections_12_mths_ex_med  acc_now_delinq verification_status  \n",
       "0                         0.0             0.0            Verified  \n",
       "1                         0.0             0.0     Source Verified  \n",
       "2                         0.0             0.0        Not Verified  \n",
       "3                         0.0             0.0     Source Verified  \n",
       "4                         0.0             0.0     Source Verified  "
      ]
     },
     "execution_count": 18,
     "metadata": {},
     "output_type": "execute_result"
    }
   ],
   "source": [
    "selected_data[features].head()"
   ]
  },
  {
   "cell_type": "code",
   "execution_count": 19,
   "metadata": {},
   "outputs": [
    {
     "data": {
      "text/plain": [
       "['Verified', 'Source Verified', 'Not Verified']"
      ]
     },
     "execution_count": 19,
     "metadata": {},
     "output_type": "execute_result"
    }
   ],
   "source": [
    "selected_data.verification_status.unique().tolist()"
   ]
  },
  {
   "cell_type": "markdown",
   "metadata": {},
   "source": [
    "### Finding labels"
   ]
  },
  {
   "cell_type": "code",
   "execution_count": 20,
   "metadata": {},
   "outputs": [
    {
     "data": {
      "text/plain": [
       "Current                                                593170\n",
       "Fully Paid                                             207496\n",
       "Charged Off                                             44666\n",
       "Late (31-120 days)                                      11461\n",
       "In Grace Period                                          6039\n",
       "Late (16-30 days)                                        2314\n",
       "Does not meet the credit policy. Status:Fully Paid       1913\n",
       "Default                                                  1209\n",
       "Does not meet the credit policy. Status:Charged Off       725\n",
       "Issued                                                     48\n",
       "Name: loan_status, dtype: int64"
      ]
     },
     "execution_count": 20,
     "metadata": {},
     "output_type": "execute_result"
    }
   ],
   "source": [
    "selected_data.loan_status.value_counts()"
   ]
  },
  {
   "cell_type": "code",
   "execution_count": 21,
   "metadata": {
    "collapsed": true
   },
   "outputs": [],
   "source": [
    "status = ['Default', 'Late (31-120 days)', 'Fully Paid', 'Charged Off']\n",
    "data = selected_data.loc[selected_data.loan_status.isin(status)].copy()"
   ]
  },
  {
   "cell_type": "code",
   "execution_count": 22,
   "metadata": {
    "collapsed": true
   },
   "outputs": [],
   "source": [
    "selected_data['label'] = selected_data['loan_status'].apply(lambda x : +1 if x=='Fully Paid' or x=='Current' else -1)\n",
    "default = selected_data[selected_data['label'] == -1]\n",
    "paid = selected_data[selected_data['label'] == 1]\n"
   ]
  },
  {
   "cell_type": "code",
   "execution_count": 23,
   "metadata": {},
   "outputs": [
    {
     "data": {
      "text/plain": [
       "array(['Charged Off', 'Default', 'Late (31-120 days)', 'In Grace Period',\n",
       "       'Late (16-30 days)',\n",
       "       'Does not meet the credit policy. Status:Fully Paid',\n",
       "       'Does not meet the credit policy. Status:Charged Off', 'Issued'], dtype=object)"
      ]
     },
     "execution_count": 23,
     "metadata": {},
     "output_type": "execute_result"
    }
   ],
   "source": [
    "default['loan_status'].unique()"
   ]
  },
  {
   "cell_type": "code",
   "execution_count": 24,
   "metadata": {},
   "outputs": [
    {
     "name": "stdout",
     "output_type": "stream",
     "text": [
      "800666 68375\n",
      "Percentage of safe loans  : 92.1321318557 \n",
      "Percentage of risky loans : 7.86786814431 \n"
     ]
    }
   ],
   "source": [
    "print len(paid), len(default)\n",
    "print \"Percentage of safe loans  : %s \" % (len(paid)* 100.0 / (len(default) + len(paid)))\n",
    "print \"Percentage of risky loans : %s \" % (len(default)* 100.0 / (len(default) + len(paid)))"
   ]
  },
  {
   "cell_type": "markdown",
   "metadata": {},
   "source": [
    "### Creating  datasets"
   ]
  },
  {
   "cell_type": "code",
   "execution_count": 25,
   "metadata": {},
   "outputs": [
    {
     "name": "stdout",
     "output_type": "stream",
     "text": [
      "(869041, 14) (869041,)\n"
     ]
    }
   ],
   "source": [
    "#safe_loans = paid.sample(frac=percentage)\n",
    "dataset_x = (default[features].append(paid[features])).copy()\n",
    "dataset_y = (default.label.append(paid.label)).copy()\n",
    "\n",
    "print dataset_x.shape, dataset_y.shape"
   ]
  },
  {
   "cell_type": "markdown",
   "metadata": {},
   "source": [
    "### Encoding features"
   ]
  },
  {
   "cell_type": "code",
   "execution_count": 26,
   "metadata": {},
   "outputs": [
    {
     "name": "stdout",
     "output_type": "stream",
     "text": [
      "869041 869041\n"
     ]
    }
   ],
   "source": [
    "from sklearn import preprocessing\n",
    "\n",
    "dataset_x.emp_length = dataset_x.emp_length.apply(lambda x: x[:-6] if 'years' in x else '0')\n",
    "dataset_x.emp_length = dataset_x.emp_length.apply(lambda x: float(x[:-1]) if '+' in x else float(x))\n",
    "dataset_x.term = dataset_x.term.apply(lambda x: float(x.replace(\"months\",\"\")))\n",
    "\n",
    "print len(dataset_x), len(dataset_y)"
   ]
  },
  {
   "cell_type": "code",
   "execution_count": 27,
   "metadata": {},
   "outputs": [
    {
     "name": "stdout",
     "output_type": "stream",
     "text": [
      "['RENT' 'OWN' 'MORTGAGE' 'OTHER' 'NONE' 'ANY']\n",
      "['car' 'small_business' 'other' 'debt_consolidation' 'major_purchase'\n",
      " 'credit_card' 'home_improvement' 'moving' 'house' 'medical' 'wedding'\n",
      " 'vacation' 'renewable_energy' 'educational']\n"
     ]
    }
   ],
   "source": [
    "print dataset_x.home_ownership.unique()\n",
    "print dataset_x.purpose.unique()"
   ]
  },
  {
   "cell_type": "markdown",
   "metadata": {},
   "source": [
    "### Creating New Features\n",
    "\n",
    "- Dummify a k-1 dummies out of k categorical levels (no nan data in the attribute)\n",
    "- Create a Verified / Non-verified feature\n",
    "- Calculate Income to Loan ratio\n",
    "- Calculate log loan amount"
   ]
  },
  {
   "cell_type": "code",
   "execution_count": 29,
   "metadata": {},
   "outputs": [
    {
     "name": "stdout",
     "output_type": "stream",
     "text": [
      "(869041, 32)\n",
      "                                       1             8             9\n",
      "emp_length                      0.000000      4.000000      0.000000\n",
      "dti                             1.000000      5.550000     18.080000\n",
      "term                           60.000000     60.000000     60.000000\n",
      "loan_amnt                    2500.000000   5600.000000   5375.000000\n",
      "annual_inc                  30000.000000  40000.000000  15000.000000\n",
      "total_acc                       4.000000     13.000000      3.000000\n",
      "delinq_2yrs                     0.000000      0.000000      0.000000\n",
      "pub_rec                         0.000000      0.000000      0.000000\n",
      "inq_last_6mths                  5.000000      2.000000      0.000000\n",
      "collections_12_mths_ex_med      0.000000      0.000000      0.000000\n",
      "acc_now_delinq                  0.000000      0.000000      0.000000\n",
      "h_MORTGAGE                      0.000000      0.000000      0.000000\n",
      "h_NONE                          0.000000      0.000000      0.000000\n",
      "h_OTHER                         0.000000      0.000000      0.000000\n",
      "h_OWN                           0.000000      1.000000      0.000000\n",
      "h_RENT                          1.000000      0.000000      1.000000\n",
      "p_car                           1.000000      0.000000      0.000000\n",
      "p_credit_card                   0.000000      0.000000      0.000000\n",
      "p_debt_consolidation            0.000000      0.000000      0.000000\n",
      "p_educational                   0.000000      0.000000      0.000000\n",
      "p_home_improvement              0.000000      0.000000      0.000000\n",
      "p_house                         0.000000      0.000000      0.000000\n",
      "p_major_purchase                0.000000      0.000000      0.000000\n",
      "p_medical                       0.000000      0.000000      0.000000\n",
      "p_moving                        0.000000      0.000000      0.000000\n",
      "p_renewable_energy              0.000000      0.000000      0.000000\n",
      "p_small_business                0.000000      1.000000      0.000000\n",
      "p_vacation                      0.000000      0.000000      0.000000\n",
      "p_wedding                       0.000000      0.000000      0.000000\n",
      "verified                        1.000000      1.000000      1.000000\n",
      "Income2Loan                    12.000000      7.142857      2.790698\n",
      "Log_loan_amnt                   7.824046      8.630522      8.589514\n"
     ]
    }
   ],
   "source": [
    "home_own = pd.get_dummies(dataset_x.home_ownership, prefix='h')\n",
    "del home_own['h_ANY']\n",
    "dataset_x[home_own.columns] =  home_own\n",
    "\n",
    "purpose = pd.get_dummies(dataset_x.purpose, prefix='p')\n",
    "del purpose['p_other']\n",
    "dataset_x[purpose.columns] =  purpose\n",
    "\n",
    "dataset_x['verified'] = dataset_x.verification_status.apply(lambda x: int('Not' not in x))\n",
    "\n",
    "del dataset_x['purpose']\n",
    "del dataset_x['home_ownership']\n",
    "del dataset_x['verification_status']\n",
    "\n",
    "dataset_x['Income2Loan'] = dataset_x['annual_inc'] / dataset_x['loan_amnt']\n",
    "dataset_x['Log_loan_amnt'] = np.log(dataset_x['loan_amnt'])\n",
    "\n",
    "\n",
    "print dataset_x.shape\n",
    "print dataset_x.head(3).T"
   ]
  },
  {
   "cell_type": "code",
   "execution_count": 30,
   "metadata": {},
   "outputs": [
    {
     "data": {
      "text/plain": [
       "<matplotlib.axes._subplots.AxesSubplot at 0x115e91d10>"
      ]
     },
     "execution_count": 30,
     "metadata": {},
     "output_type": "execute_result"
    },
    {
     "data": {
      "image/png": "[encoded data removed]",
      "text/plain": [
       "<matplotlib.figure.Figure at 0x115e91510>"
      ]
     },
     "metadata": {},
     "output_type": "display_data"
    }
   ],
   "source": [
    "import seaborn as sns\n",
    "sns.heatmap(pd.concat([dataset_y, dataset_x], axis=1).corr())"
   ]
  },
  {
   "cell_type": "code",
   "execution_count": 31,
   "metadata": {},
   "outputs": [
    {
     "data": {
      "text/html": [
       "<div>\n",
       "<table border=\"1\" class=\"dataframe\">\n",
       "  <thead>\n",
       "    <tr style=\"text-align: right;\">\n",
       "      <th></th>\n",
       "      <th>emp_length</th>\n",
       "      <th>dti</th>\n",
       "      <th>term</th>\n",
       "      <th>loan_amnt</th>\n",
       "      <th>annual_inc</th>\n",
       "      <th>total_acc</th>\n",
       "      <th>delinq_2yrs</th>\n",
       "      <th>pub_rec</th>\n",
       "      <th>inq_last_6mths</th>\n",
       "      <th>collections_12_mths_ex_med</th>\n",
       "      <th>...</th>\n",
       "      <th>p_major_purchase</th>\n",
       "      <th>p_medical</th>\n",
       "      <th>p_moving</th>\n",
       "      <th>p_renewable_energy</th>\n",
       "      <th>p_small_business</th>\n",
       "      <th>p_vacation</th>\n",
       "      <th>p_wedding</th>\n",
       "      <th>verified</th>\n",
       "      <th>Income2Loan</th>\n",
       "      <th>Log_loan_amnt</th>\n",
       "    </tr>\n",
       "  </thead>\n",
       "  <tbody>\n",
       "    <tr>\n",
       "      <th>count</th>\n",
       "      <td>869041.000000</td>\n",
       "      <td>869041.000000</td>\n",
       "      <td>869041.000000</td>\n",
       "      <td>869041.000000</td>\n",
       "      <td>8.690410e+05</td>\n",
       "      <td>869041.000000</td>\n",
       "      <td>869041.000000</td>\n",
       "      <td>869041.000000</td>\n",
       "      <td>869041.000000</td>\n",
       "      <td>869041.000000</td>\n",
       "      <td>...</td>\n",
       "      <td>869041.000000</td>\n",
       "      <td>869041.000000</td>\n",
       "      <td>869041.000000</td>\n",
       "      <td>869041.000000</td>\n",
       "      <td>869041.000000</td>\n",
       "      <td>869041.000000</td>\n",
       "      <td>869041.000000</td>\n",
       "      <td>869041.000000</td>\n",
       "      <td>869041.000000</td>\n",
       "      <td>869041.000000</td>\n",
       "    </tr>\n",
       "    <tr>\n",
       "      <th>mean</th>\n",
       "      <td>5.645860</td>\n",
       "      <td>18.133464</td>\n",
       "      <td>43.200820</td>\n",
       "      <td>14750.817251</td>\n",
       "      <td>7.495792e+04</td>\n",
       "      <td>25.267915</td>\n",
       "      <td>0.313605</td>\n",
       "      <td>0.194372</td>\n",
       "      <td>0.695523</td>\n",
       "      <td>0.014186</td>\n",
       "      <td>...</td>\n",
       "      <td>0.019390</td>\n",
       "      <td>0.009545</td>\n",
       "      <td>0.006085</td>\n",
       "      <td>0.000648</td>\n",
       "      <td>0.011650</td>\n",
       "      <td>0.005305</td>\n",
       "      <td>0.002683</td>\n",
       "      <td>0.699592</td>\n",
       "      <td>6.724952</td>\n",
       "      <td>9.408899</td>\n",
       "    </tr>\n",
       "    <tr>\n",
       "      <th>std</th>\n",
       "      <td>3.890887</td>\n",
       "      <td>17.282781</td>\n",
       "      <td>10.998546</td>\n",
       "      <td>8424.695154</td>\n",
       "      <td>6.443026e+04</td>\n",
       "      <td>11.830778</td>\n",
       "      <td>0.860815</td>\n",
       "      <td>0.580457</td>\n",
       "      <td>0.998992</td>\n",
       "      <td>0.133461</td>\n",
       "      <td>...</td>\n",
       "      <td>0.137893</td>\n",
       "      <td>0.097231</td>\n",
       "      <td>0.077768</td>\n",
       "      <td>0.025444</td>\n",
       "      <td>0.107303</td>\n",
       "      <td>0.072640</td>\n",
       "      <td>0.051732</td>\n",
       "      <td>0.458436</td>\n",
       "      <td>8.240482</td>\n",
       "      <td>0.665628</td>\n",
       "    </tr>\n",
       "    <tr>\n",
       "      <th>min</th>\n",
       "      <td>0.000000</td>\n",
       "      <td>0.000000</td>\n",
       "      <td>36.000000</td>\n",
       "      <td>500.000000</td>\n",
       "      <td>0.000000e+00</td>\n",
       "      <td>1.000000</td>\n",
       "      <td>0.000000</td>\n",
       "      <td>0.000000</td>\n",
       "      <td>0.000000</td>\n",
       "      <td>0.000000</td>\n",
       "      <td>...</td>\n",
       "      <td>0.000000</td>\n",
       "      <td>0.000000</td>\n",
       "      <td>0.000000</td>\n",
       "      <td>0.000000</td>\n",
       "      <td>0.000000</td>\n",
       "      <td>0.000000</td>\n",
       "      <td>0.000000</td>\n",
       "      <td>0.000000</td>\n",
       "      <td>0.000000</td>\n",
       "      <td>6.214608</td>\n",
       "    </tr>\n",
       "    <tr>\n",
       "      <th>25%</th>\n",
       "      <td>2.000000</td>\n",
       "      <td>11.900000</td>\n",
       "      <td>36.000000</td>\n",
       "      <td>8000.000000</td>\n",
       "      <td>4.500000e+04</td>\n",
       "      <td>17.000000</td>\n",
       "      <td>0.000000</td>\n",
       "      <td>0.000000</td>\n",
       "      <td>0.000000</td>\n",
       "      <td>0.000000</td>\n",
       "      <td>...</td>\n",
       "      <td>0.000000</td>\n",
       "      <td>0.000000</td>\n",
       "      <td>0.000000</td>\n",
       "      <td>0.000000</td>\n",
       "      <td>0.000000</td>\n",
       "      <td>0.000000</td>\n",
       "      <td>0.000000</td>\n",
       "      <td>0.000000</td>\n",
       "      <td>3.333333</td>\n",
       "      <td>8.987197</td>\n",
       "    </tr>\n",
       "    <tr>\n",
       "      <th>50%</th>\n",
       "      <td>6.000000</td>\n",
       "      <td>17.630000</td>\n",
       "      <td>36.000000</td>\n",
       "      <td>13000.000000</td>\n",
       "      <td>6.470000e+04</td>\n",
       "      <td>24.000000</td>\n",
       "      <td>0.000000</td>\n",
       "      <td>0.000000</td>\n",
       "      <td>0.000000</td>\n",
       "      <td>0.000000</td>\n",
       "      <td>...</td>\n",
       "      <td>0.000000</td>\n",
       "      <td>0.000000</td>\n",
       "      <td>0.000000</td>\n",
       "      <td>0.000000</td>\n",
       "      <td>0.000000</td>\n",
       "      <td>0.000000</td>\n",
       "      <td>0.000000</td>\n",
       "      <td>1.000000</td>\n",
       "      <td>4.800000</td>\n",
       "      <td>9.472705</td>\n",
       "    </tr>\n",
       "    <tr>\n",
       "      <th>75%</th>\n",
       "      <td>10.000000</td>\n",
       "      <td>23.910000</td>\n",
       "      <td>60.000000</td>\n",
       "      <td>20000.000000</td>\n",
       "      <td>9.000000e+04</td>\n",
       "      <td>32.000000</td>\n",
       "      <td>0.000000</td>\n",
       "      <td>0.000000</td>\n",
       "      <td>1.000000</td>\n",
       "      <td>0.000000</td>\n",
       "      <td>...</td>\n",
       "      <td>0.000000</td>\n",
       "      <td>0.000000</td>\n",
       "      <td>0.000000</td>\n",
       "      <td>0.000000</td>\n",
       "      <td>0.000000</td>\n",
       "      <td>0.000000</td>\n",
       "      <td>0.000000</td>\n",
       "      <td>1.000000</td>\n",
       "      <td>7.500000</td>\n",
       "      <td>9.903488</td>\n",
       "    </tr>\n",
       "    <tr>\n",
       "      <th>max</th>\n",
       "      <td>10.000000</td>\n",
       "      <td>9999.000000</td>\n",
       "      <td>60.000000</td>\n",
       "      <td>35000.000000</td>\n",
       "      <td>9.500000e+06</td>\n",
       "      <td>169.000000</td>\n",
       "      <td>39.000000</td>\n",
       "      <td>86.000000</td>\n",
       "      <td>33.000000</td>\n",
       "      <td>20.000000</td>\n",
       "      <td>...</td>\n",
       "      <td>1.000000</td>\n",
       "      <td>1.000000</td>\n",
       "      <td>1.000000</td>\n",
       "      <td>1.000000</td>\n",
       "      <td>1.000000</td>\n",
       "      <td>1.000000</td>\n",
       "      <td>1.000000</td>\n",
       "      <td>1.000000</td>\n",
       "      <td>1624.236000</td>\n",
       "      <td>10.463103</td>\n",
       "    </tr>\n",
       "  </tbody>\n",
       "</table>\n",
       "<p>8 rows × 32 columns</p>\n",
       "</div>"
      ],
      "text/plain": [
       "          emp_length            dti           term      loan_amnt  \\\n",
       "count  869041.000000  869041.000000  869041.000000  869041.000000   \n",
       "mean        5.645860      18.133464      43.200820   14750.817251   \n",
       "std         3.890887      17.282781      10.998546    8424.695154   \n",
       "min         0.000000       0.000000      36.000000     500.000000   \n",
       "25%         2.000000      11.900000      36.000000    8000.000000   \n",
       "50%         6.000000      17.630000      36.000000   13000.000000   \n",
       "75%        10.000000      23.910000      60.000000   20000.000000   \n",
       "max        10.000000    9999.000000      60.000000   35000.000000   \n",
       "\n",
       "         annual_inc      total_acc    delinq_2yrs        pub_rec  \\\n",
       "count  8.690410e+05  869041.000000  869041.000000  869041.000000   \n",
       "mean   7.495792e+04      25.267915       0.313605       0.194372   \n",
       "std    6.443026e+04      11.830778       0.860815       0.580457   \n",
       "min    0.000000e+00       1.000000       0.000000       0.000000   \n",
       "25%    4.500000e+04      17.000000       0.000000       0.000000   \n",
       "50%    6.470000e+04      24.000000       0.000000       0.000000   \n",
       "75%    9.000000e+04      32.000000       0.000000       0.000000   \n",
       "max    9.500000e+06     169.000000      39.000000      86.000000   \n",
       "\n",
       "       inq_last_6mths  collections_12_mths_ex_med      ...        \\\n",
       "count   869041.000000               869041.000000      ...         \n",
       "mean         0.695523                    0.014186      ...         \n",
       "std          0.998992                    0.133461      ...         \n",
       "min          0.000000                    0.000000      ...         \n",
       "25%          0.000000                    0.000000      ...         \n",
       "50%          0.000000                    0.000000      ...         \n",
       "75%          1.000000                    0.000000      ...         \n",
       "max         33.000000                   20.000000      ...         \n",
       "\n",
       "       p_major_purchase      p_medical       p_moving  p_renewable_energy  \\\n",
       "count     869041.000000  869041.000000  869041.000000       869041.000000   \n",
       "mean           0.019390       0.009545       0.006085            0.000648   \n",
       "std            0.137893       0.097231       0.077768            0.025444   \n",
       "min            0.000000       0.000000       0.000000            0.000000   \n",
       "25%            0.000000       0.000000       0.000000            0.000000   \n",
       "50%            0.000000       0.000000       0.000000            0.000000   \n",
       "75%            0.000000       0.000000       0.000000            0.000000   \n",
       "max            1.000000       1.000000       1.000000            1.000000   \n",
       "\n",
       "       p_small_business     p_vacation      p_wedding       verified  \\\n",
       "count     869041.000000  869041.000000  869041.000000  869041.000000   \n",
       "mean           0.011650       0.005305       0.002683       0.699592   \n",
       "std            0.107303       0.072640       0.051732       0.458436   \n",
       "min            0.000000       0.000000       0.000000       0.000000   \n",
       "25%            0.000000       0.000000       0.000000       0.000000   \n",
       "50%            0.000000       0.000000       0.000000       1.000000   \n",
       "75%            0.000000       0.000000       0.000000       1.000000   \n",
       "max            1.000000       1.000000       1.000000       1.000000   \n",
       "\n",
       "         Income2Loan  Log_loan_amnt  \n",
       "count  869041.000000  869041.000000  \n",
       "mean        6.724952       9.408899  \n",
       "std         8.240482       0.665628  \n",
       "min         0.000000       6.214608  \n",
       "25%         3.333333       8.987197  \n",
       "50%         4.800000       9.472705  \n",
       "75%         7.500000       9.903488  \n",
       "max      1624.236000      10.463103  \n",
       "\n",
       "[8 rows x 32 columns]"
      ]
     },
     "execution_count": 31,
     "metadata": {},
     "output_type": "execute_result"
    }
   ],
   "source": [
    "dataset_x.describe()"
   ]
  },
  {
   "cell_type": "markdown",
   "metadata": {},
   "source": [
    "### Model training + cross-validation"
   ]
  },
  {
   "cell_type": "code",
   "execution_count": 33,
   "metadata": {},
   "outputs": [
    {
     "name": "stdout",
     "output_type": "stream",
     "text": [
      "(869041, 32)\n"
     ]
    }
   ],
   "source": [
    "print dataset_x.shape"
   ]
  },
  {
   "cell_type": "code",
   "execution_count": 34,
   "metadata": {
    "collapsed": true
   },
   "outputs": [],
   "source": [
    "from sklearn.ensemble import RandomForestClassifier\n",
    "from sklearn.metrics import accuracy_score, make_scorer\n",
    "from sklearn.model_selection import cross_validate, train_test_split\n",
    "\n",
    "np.random.seed(42)\n",
    "\n",
    "X_train, X_test, y_train, y_test = train_test_split(dataset_x, dataset_y, \n",
    "                                                    test_size=0.2, random_state=6)\n",
    "\n",
    "\n",
    "#clf = RandomForestClassifier(n_estimators=100, n_jobs=-1) #500\n",
    "scoring = {'accuracy': make_scorer(accuracy_score),'prec': 'precision'}\n",
    "#cv_results = cross_validate(clf.fit(X_train, y_train), X_train, y_train, scoring=scoring)\n"
   ]
  },
  {
   "cell_type": "code",
   "execution_count": 35,
   "metadata": {
    "collapsed": true
   },
   "outputs": [],
   "source": [
    "'''\n",
    "for s, r in cv_results.items():\n",
    "    print s, r\n",
    "\n",
    "neg = y_train[y_train == -1].count()\n",
    "pos = y_train[y_train == 1].count()\n",
    "print (neg*100/pos)\n",
    "\n",
    "neg2 = y_test[y_test == -1].count()\n",
    "pos2 = y_test[y_test == 1].count()\n",
    "print (neg2*100/pos2)\n",
    "\n",
    "'''\n",
    "\n",
    "pass"
   ]
  },
  {
   "cell_type": "code",
   "execution_count": 45,
   "metadata": {
    "collapsed": true
   },
   "outputs": [],
   "source": [
    "from sklearn.model_selection import train_test_split, cross_val_score \n",
    "from sklearn.metrics import classification_report, roc_curve, auc\n",
    "from sklearn.linear_model import LogisticRegression\n",
    "from sklearn import svm"
   ]
  },
  {
   "cell_type": "code",
   "execution_count": 37,
   "metadata": {
    "collapsed": true
   },
   "outputs": [],
   "source": [
    "def roc_plot(fpr, tpr, roc_auc):\n",
    "    lw = 2\n",
    "    for i, f in enumerate(fpr):\n",
    "        plt.plot(fpr[i], tpr[i], label='ROC curve (area = %0.4f)' % roc_auc[i])\n",
    "\n",
    "    plt.plot([0, 1], [0, 1], color='navy', lw=lw, linestyle='--')\n",
    "    plt.xlim([0.0, 1.0])\n",
    "    plt.ylim([0.0, 1.05])\n",
    "    plt.xlabel('False Positive Rate')\n",
    "    plt.ylabel('True Positive Rate')\n",
    "    plt.title('Receiver operating characteristic example')\n",
    "    plt.legend(loc=\"lower right\")\n",
    "    plt.show()"
   ]
  },
  {
   "cell_type": "markdown",
   "metadata": {},
   "source": [
    "# Random Forest"
   ]
  },
  {
   "cell_type": "markdown",
   "metadata": {},
   "source": [
    "### ROC curve and AUC"
   ]
  },
  {
   "cell_type": "code",
   "execution_count": 38,
   "metadata": {
    "collapsed": true
   },
   "outputs": [],
   "source": [
    "fpr = dict()\n",
    "tpr = dict()\n",
    "roc_auc = dict()\n",
    "rf_clf = dict()\n",
    "\n",
    "for i, n_estimators in enumerate([100, 300, 500]): #1000, 2000\n",
    "    clf = RandomForestClassifier(n_estimators, n_jobs=-1)\n",
    "    clf.fit(X_train, y_train)\n",
    "    rf_clf[i] = clf"
   ]
  },
  {
   "cell_type": "code",
   "execution_count": 39,
   "metadata": {},
   "outputs": [
    {
     "name": "stdout",
     "output_type": "stream",
     "text": [
      "0.922063874713\n",
      "0.922259491741\n",
      "0.922242231415\n",
      "{0: 0.50624283656941538, 1: 0.50648345152970764, 2: 0.50657496254955481}\n"
     ]
    },
    {
     "data": {
      "image/png": "[encoded data removed]",
      "text/plain": [
       "<matplotlib.figure.Figure at 0x121f3bdd0>"
      ]
     },
     "metadata": {},
     "output_type": "display_data"
    }
   ],
   "source": [
    "for i in rf_clf.keys():\n",
    "\n",
    "    y_predict = rf_clf[i].predict(X_test)\n",
    "    fpr[i], tpr[i], _ = roc_curve(y_test, y_predict, pos_label=1)\n",
    "    print accuracy_score(y_test, y_predict)\n",
    "    roc_auc[i] = auc(fpr[i], tpr[i])\n",
    "    \n",
    "print roc_auc\n",
    "\n",
    "roc_plot(fpr, tpr, roc_auc)"
   ]
  },
  {
   "cell_type": "markdown",
   "metadata": {
    "collapsed": true
   },
   "source": [
    "# SVM"
   ]
  },
  {
   "cell_type": "code",
   "execution_count": 40,
   "metadata": {},
   "outputs": [
    {
     "name": "stdout",
     "output_type": "stream",
     "text": [
      "(695232, 32)\n",
      "(695232, 32)\n"
     ]
    }
   ],
   "source": [
    "print (X_train/X_train.std()).shape\n",
    "print (X_train).shape"
   ]
  },
  {
   "cell_type": "code",
   "execution_count": 42,
   "metadata": {
    "collapsed": true
   },
   "outputs": [],
   "source": [
    "fpr = dict()\n",
    "tpr = dict()\n",
    "roc_auc = dict()\n",
    "svc_clf = dict()\n",
    "\n",
    "m = X_train.mean()\n",
    "v = X_train.std()\n",
    "\n",
    "for i, c in enumerate([0.3, 1, 3]): \n",
    "    clf = svm.LinearSVC(C=c)\n",
    "    clf.fit((X_train-m)/v, y_train)\n",
    "    svc_clf[i] = clf"
   ]
  },
  {
   "cell_type": "code",
   "execution_count": 43,
   "metadata": {},
   "outputs": [
    {
     "name": "stdout",
     "output_type": "stream",
     "text": [
      "0.921672640657\n",
      "0.921592092469\n",
      "0.918623316399\n",
      "{0: 0.50051614830947788, 1: 0.50114494813309884, 2: 0.50121571799464426}\n"
     ]
    },
    {
     "data": {
      "image/png": "[encoded data removed]",
      "text/plain": [
       "<matplotlib.figure.Figure at 0x12c4ed590>"
      ]
     },
     "metadata": {},
     "output_type": "display_data"
    }
   ],
   "source": [
    "for i in svc_clf.keys():\n",
    "\n",
    "    y_predict = svc_clf[i].predict((X_test - m)/v)\n",
    "    fpr[i], tpr[i], _ = roc_curve(y_test, y_predict)\n",
    "    print accuracy_score(y_test, y_predict)\n",
    "    roc_auc[i] = auc(fpr[i], tpr[i])\n",
    "    \n",
    "print roc_auc\n",
    "\n",
    "roc_plot(fpr, tpr, roc_auc)"
   ]
  },
  {
   "cell_type": "markdown",
   "metadata": {},
   "source": [
    "# Logistic Regression"
   ]
  },
  {
   "cell_type": "code",
   "execution_count": 46,
   "metadata": {
    "collapsed": true
   },
   "outputs": [],
   "source": [
    "fpr = dict()\n",
    "tpr = dict()\n",
    "roc_auc = dict()\n",
    "lr_clf = dict()\n",
    "\n",
    "m = X_train.mean()\n",
    "v = X_train.std()\n",
    "\n",
    "for i, c in enumerate([0.01, 0.1, 1, 10]): \n",
    "    clf = LogisticRegression(C=c)\n",
    "    clf.fit((X_train-m)/v, y_train)\n",
    "    lr_clf[i] = clf"
   ]
  },
  {
   "cell_type": "code",
   "execution_count": 47,
   "metadata": {},
   "outputs": [
    {
     "name": "stdout",
     "output_type": "stream",
     "text": [
      "0.921977573083\n",
      "0.921966066199\n",
      "0.921966066199\n",
      "0.921966066199\n",
      "{0: 0.50212742798818977, 1: 0.50212118586886545, 2: 0.50212118586886545, 3: 0.50212118586886545}\n"
     ]
    },
    {
     "data": {
      "image/png": "[encoded data removed]",
      "text/plain": [
       "<matplotlib.figure.Figure at 0x116a0c290>"
      ]
     },
     "metadata": {},
     "output_type": "display_data"
    }
   ],
   "source": [
    "for i in lr_clf.keys():\n",
    "\n",
    "    y_predict = lr_clf[i].predict((X_test - m)/v)\n",
    "    fpr[i], tpr[i], _ = roc_curve(y_test, y_predict)\n",
    "    print accuracy_score(y_test, y_predict)\n",
    "    roc_auc[i] = auc(fpr[i], tpr[i])\n",
    "    \n",
    "print roc_auc\n",
    "\n",
    "roc_plot(fpr, tpr, roc_auc)"
   ]
  },
  {
   "cell_type": "code",
   "execution_count": null,
   "metadata": {
    "collapsed": true
   },
   "outputs": [],
   "source": []
  }
 ],
 "metadata": {
  "kernelspec": {
   "display_name": "Python [default]",
   "language": "python",
   "name": "python2"
  },
  "language_info": {
   "codemirror_mode": {
    "name": "ipython",
    "version": 2
   },
   "file_extension": ".py",
   "mimetype": "text/x-python",
   "name": "python",
   "nbconvert_exporter": "python",
   "pygments_lexer": "ipython2",
   "version": "2.7.13"
  }
 },
 "nbformat": 4,
 "nbformat_minor": 2
}
